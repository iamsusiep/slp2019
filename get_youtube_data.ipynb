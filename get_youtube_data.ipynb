{
  "nbformat": 4,
  "nbformat_minor": 0,
  "metadata": {
    "colab": {
      "name": "get_youtube_data.ipynb",
      "provenance": [],
      "collapsed_sections": [],
      "include_colab_link": true
    },
    "kernelspec": {
      "name": "python3",
      "display_name": "Python 3"
    }
  },
  "cells": [
    {
      "cell_type": "markdown",
      "metadata": {
        "id": "view-in-github",
        "colab_type": "text"
      },
      "source": [
        "<a href=\"https://colab.research.google.com/github/iamsusiep/slp2019/blob/master/get_youtube_data.ipynb\" target=\"_parent\"><img src=\"https://colab.research.google.com/assets/colab-badge.svg\" alt=\"Open In Colab\"/></a>"
      ]
    },
    {
      "cell_type": "markdown",
      "metadata": {
        "id": "10oVAaIlIwfr",
        "colab_type": "text"
      },
      "source": [
        "# Pulling Audio and Video from Youtube\n",
        "All you should need to do to run this notebook is download the CSVs linked in the second code cell. Once done, you'll be able to download each film trailer from YouTube. Plus, before pulling a film it checks if it's already downloaded, and if it's failed previously, so that you shouldn't need to attempt pulling a film more than once."
      ]
    },
    {
      "cell_type": "code",
      "metadata": {
        "id": "Wp0uMD6CGPa9",
        "colab_type": "code",
        "outputId": "852e537b-e6ba-4ab6-9c15-43bf12b7387e",
        "colab": {
          "base_uri": "https://localhost:8080/",
          "height": 210
        }
      },
      "source": [
        "!pip install youtube_dl\n",
        "from google.colab import drive\n",
        "drive.mount('/content/gdrive')\n",
        "import pandas as pd\n",
        "import glob\n",
        "import requests"
      ],
      "execution_count": 0,
      "outputs": [
        {
          "output_type": "stream",
          "text": [
            "Collecting youtube_dl\n",
            "\u001b[?25l  Downloading https://files.pythonhosted.org/packages/67/99/977114c1c11cb3afdcc685f166ce844d052baae3ba7aa5d9f26da140c409/youtube_dl-2019.11.22-py2.py3-none-any.whl (1.8MB)\n",
            "\u001b[K     |████████████████████████████████| 1.8MB 2.8MB/s \n",
            "\u001b[?25hInstalling collected packages: youtube-dl\n",
            "Successfully installed youtube-dl-2019.11.22\n",
            "Go to this URL in a browser: https://accounts.google.com/o/oauth2/auth?client_id=947318989803-6bn6qk8qdgf4n4g3pfee6491hc0brc4i.apps.googleusercontent.com&redirect_uri=urn%3aietf%3awg%3aoauth%3a2.0%3aoob&response_type=code&scope=email%20https%3a%2f%2fwww.googleapis.com%2fauth%2fdocs.test%20https%3a%2f%2fwww.googleapis.com%2fauth%2fdrive%20https%3a%2f%2fwww.googleapis.com%2fauth%2fdrive.photos.readonly%20https%3a%2f%2fwww.googleapis.com%2fauth%2fpeopleapi.readonly\n",
            "\n",
            "Enter your authorization code:\n",
            "··········\n",
            "Mounted at /content/gdrive\n"
          ],
          "name": "stdout"
        }
      ]
    },
    {
      "cell_type": "code",
      "metadata": {
        "id": "-Ws82VMxGfn2",
        "colab_type": "code",
        "colab": {}
      },
      "source": [
        "# load in CSVs\n",
        "# first is youtube trailer links; second is IMDB ids for those movies\n",
        "# third is their average ratings and num votes\n",
        "# fourth is basic film metadata\n",
        "youtubeIDs = pd.read_csv('/content/gdrive/My Drive/ml-youtube.csv') # https://grouplens.org/datasets/movielens/20m-youtube/\n",
        "links = pd.read_csv('/content/gdrive/My Drive/links.csv') # http://files.grouplens.org/datasets/movielens/ml-20m-README.html\n",
        "titleRatings = pd.read_csv('/content/gdrive/My Drive/title.ratings.tsv', sep='\\t', usecols = ['tconst', 'numVotes']) # https://datasets.imdbws.com/\n",
        "titleRatings['tconst'] = titleRatings['tconst'].str[2:].astype(int)\n",
        "titleBase = pd.read_csv('/content/gdrive/My Drive/title.basics.tsv', sep='\\t', usecols = ['tconst', 'runtimeMinutes']) # https://datasets.imdbws.com/\n",
        "titleBase['tconst'] = titleBase['tconst'].str[2:].astype(int)\n",
        "\n",
        "# merge them together\n",
        "yt_links = pd.merge(youtubeIDs, links, on = 'movieId')\n",
        "yt_links_ratings = pd.merge(yt_links, titleRatings, left_on='imdbId', right_on = 'tconst') \n",
        "final = pd.merge(yt_links_ratings, titleBase, left_on='tconst', right_on = 'tconst')\n",
        "final = final[(final['numVotes'] > 5000) & (final['runtimeMinutes'].str.replace(\"\\\\N\", \"-1\", regex = False).astype(int) > 40)]"
      ],
      "execution_count": 0,
      "outputs": []
    },
    {
      "cell_type": "code",
      "metadata": {
        "id": "9zp4iBQxERn5",
        "colab_type": "code",
        "outputId": "12325877-8edf-44c7-bad8-0d7b562aa7bc",
        "colab": {
          "base_uri": "https://localhost:8080/",
          "height": 35
        }
      },
      "source": [
        "! mkdir '/content/gdrive/My Drive/audio'"
      ],
      "execution_count": 0,
      "outputs": [
        {
          "output_type": "stream",
          "text": [
            "mkdir: cannot create directory ‘/content/gdrive/My Drive/audio’: File exists\n"
          ],
          "name": "stdout"
        }
      ]
    },
    {
      "cell_type": "code",
      "metadata": {
        "id": "ra-QEyWEFPmM",
        "colab_type": "code",
        "colab": {}
      },
      "source": [
        "from os.path import basename\n",
        "\n",
        "existing_files = glob.glob(\"/content/gdrive/My Drive/audio/*.wav\")\n",
        "pulledAudio = {basename(x).split('.wav')[0]: None for x in existing_files}"
      ],
      "execution_count": 0,
      "outputs": []
    },
    {
      "cell_type": "code",
      "metadata": {
        "id": "sp8xKlAXGEI4",
        "colab_type": "code",
        "outputId": "fd894f94-c1e7-4990-eee2-4e9886e34702",
        "colab": {
          "base_uri": "https://localhost:8080/",
          "height": 35
        }
      },
      "source": [
        "cd '/content/gdrive/My Drive/audio'"
      ],
      "execution_count": 0,
      "outputs": [
        {
          "output_type": "stream",
          "text": [
            "/content/gdrive/My Drive/audio\n"
          ],
          "name": "stdout"
        }
      ]
    },
    {
      "cell_type": "code",
      "metadata": {
        "id": "vw0xLH88JK1v",
        "colab_type": "code",
        "colab": {}
      },
      "source": [
        "try:\n",
        "  fails = {line.rstrip('\\n'): None for line in open('fails.txt', 'r')}\n",
        "except:\n",
        "  fails = {}\n"
      ],
      "execution_count": 0,
      "outputs": []
    },
    {
      "cell_type": "code",
      "metadata": {
        "id": "K0EKM0LsAntu",
        "colab_type": "code",
        "outputId": "0a41beed-342c-4697-a8b9-81bd0d9dac62",
        "colab": {
          "base_uri": "https://localhost:8080/"
        }
      },
      "source": [
        "import youtube_dl\n",
        "import time\n",
        "# per https://stackoverflow.com/questions/27473526/download-only-audio-from-youtube-video-using-youtube-dl-in-python-script\n",
        "ydl_opts = {\n",
        "    'format': 'bestaudio/best',\n",
        "    'postprocessors': [{\n",
        "        'key': 'FFmpegExtractAudio',\n",
        "        'preferredcodec': 'wav',\n",
        "        'preferredquality': '192'\n",
        "    }],\n",
        "    'postprocessor_args': [\n",
        "        '-ar', '16000'\n",
        "    ],\n",
        "    'prefer_ffmpeg': True,\n",
        "    'keepvideo': False\n",
        "}\n",
        "\n",
        "for yt_link in reversed(final['youtubeId'].values):\n",
        "  if not (any([yt_link in x for x in list(pulledAudio.keys())])) and (yt_link not in fails):\n",
        "    try:\n",
        "      with youtube_dl.YoutubeDL(ydl_opts) as ydl:\n",
        "        ydl.download(['http://www.youtube.com/watch?v=' + yt_link])\n",
        "    except Exception as e:\n",
        "      if 'Too Many Requests' in str(e) or 'URLError' in str(e) or 'reset by peer' in str(e):\n",
        "        time.sleep(10000)\n",
        "        pass\n",
        "      elif 'unavailable' in str(e) or 'payment' in str(e) or 'spam' in str(e) or 'nudity' in str(e) or 'terminated' in str(e) or 'contains content' in str(e) or 'Terms of Service' in str(e) or 'copyright' in str(e) or 'removed' in str(e) or 'video is private' in str(e) or 'not made this video available' in str(e):\n",
        "        f = open(\"fails.txt\",\"a+\")\n",
        "        f.write(yt_link)\n",
        "        f.write('\\n')\n",
        "        f.close()\n",
        "      else:\n",
        "        pass\n"
      ],
      "execution_count": 0,
      "outputs": [
        {
          "output_type": "stream",
          "text": [
            "[youtube] 3EceNo1LJj4: Downloading webpage\n",
            "[youtube] 3EceNo1LJj4: Downloading video info webpage\n"
          ],
          "name": "stdout"
        },
        {
          "output_type": "stream",
          "text": [
            "ERROR: This video is not available.\n",
            "Sorry about that.\n"
          ],
          "name": "stderr"
        },
        {
          "output_type": "stream",
          "text": [
            "[youtube] kr7Opycx_yY: Downloading webpage\n",
            "[youtube] kr7Opycx_yY: Downloading video info webpage\n"
          ],
          "name": "stdout"
        },
        {
          "output_type": "stream",
          "text": [
            "ERROR: This video is not available.\n",
            "Sorry about that.\n"
          ],
          "name": "stderr"
        },
        {
          "output_type": "stream",
          "text": [
            "[youtube] FNppLrmdyug: Downloading webpage\n",
            "[youtube] FNppLrmdyug: Downloading video info webpage\n",
            "[download] Destination: Bridesmaids - Trailer-FNppLrmdyug.webm\n",
            "[download] 100% of 2.07MiB in 00:03\n",
            "[ffmpeg] Destination: Bridesmaids - Trailer-FNppLrmdyug.wav\n",
            "Deleting original file Bridesmaids - Trailer-FNppLrmdyug.webm (pass -k to keep)\n",
            "[youtube] U2p1u13R-eE: Downloading webpage\n",
            "[youtube] U2p1u13R-eE: Downloading video info webpage\n",
            "[download] Destination: Something Borrowed Official Trailer #1 - (2011) HD-U2p1u13R-eE.webm\n",
            "[download] 100% of 2.64MiB in 00:00\n",
            "[ffmpeg] Destination: Something Borrowed Official Trailer #1 - (2011) HD-U2p1u13R-eE.wav\n",
            "Deleting original file Something Borrowed Official Trailer #1 - (2011) HD-U2p1u13R-eE.webm (pass -k to keep)\n",
            "[youtube] RXQsSStHI5c: Downloading webpage\n",
            "[youtube] RXQsSStHI5c: Downloading video info webpage\n",
            "[download] Destination: SUBMARINO (2010) - Official Trailer [HD] - English subtitles-RXQsSStHI5c.webm\n",
            "[download] 100% of 1.83MiB in 00:01\n",
            "[ffmpeg] Destination: SUBMARINO (2010) - Official Trailer [HD] - English subtitles-RXQsSStHI5c.wav\n",
            "Deleting original file SUBMARINO (2010) - Official Trailer [HD] - English subtitles-RXQsSStHI5c.webm (pass -k to keep)\n",
            "[youtube] IyJo6ESSiMY: Downloading webpage\n",
            "[youtube] IyJo6ESSiMY: Downloading video info webpage\n",
            "[download] Destination: Paul (2011) - Official Trailer #2 [HD]-IyJo6ESSiMY.webm\n",
            "[download] 100% of 2.21MiB in 00:00\n",
            "[ffmpeg] Destination: Paul (2011) - Official Trailer #2 [HD]-IyJo6ESSiMY.wav\n",
            "Deleting original file Paul (2011) - Official Trailer #2 [HD]-IyJo6ESSiMY.webm (pass -k to keep)\n",
            "[youtube] X-RA1U2rAw8: Downloading webpage\n",
            "[youtube] X-RA1U2rAw8: Downloading video info webpage\n",
            "[download] Destination: 'Vanishing On 7th Street' Movie Trailer - 2011 Release-X-RA1U2rAw8.webm\n",
            "[download] 100% of 2.19MiB in 00:00\n",
            "[ffmpeg] Destination: 'Vanishing On 7th Street' Movie Trailer - 2011 Release-X-RA1U2rAw8.wav\n",
            "Deleting original file 'Vanishing On 7th Street' Movie Trailer - 2011 Release-X-RA1U2rAw8.webm (pass -k to keep)\n",
            "[youtube] 061ZyqHhdCo: Downloading webpage\n",
            "[youtube] 061ZyqHhdCo: Downloading video info webpage\n",
            "[download] Destination: Castaway on the Moon Official Trailer 2009-061ZyqHhdCo.m4a\n",
            "[download] 100% of 1.88MiB in 00:00\n",
            "[ffmpeg] Correcting container in \"Castaway on the Moon Official Trailer 2009-061ZyqHhdCo.m4a\"\n",
            "[ffmpeg] Destination: Castaway on the Moon Official Trailer 2009-061ZyqHhdCo.wav\n",
            "Deleting original file Castaway on the Moon Official Trailer 2009-061ZyqHhdCo.m4a (pass -k to keep)\n",
            "[youtube] UE7KvAyVnbw: Downloading webpage\n",
            "[youtube] UE7KvAyVnbw: Downloading video info webpage\n",
            "[download] Destination: BURKE AND HARE TRAILER-UE7KvAyVnbw.webm\n",
            "[download] 100% of 1.97MiB in 00:02\n",
            "[ffmpeg] Destination: BURKE AND HARE TRAILER-UE7KvAyVnbw.wav\n",
            "Deleting original file BURKE AND HARE TRAILER-UE7KvAyVnbw.webm (pass -k to keep)\n",
            "[youtube] XNNJySFgZDg: Downloading webpage\n",
            "[youtube] XNNJySFgZDg: Downloading video info webpage\n",
            "[download] Destination: Helen Mirren - Elizabeth I - Long t·r·a·i·le·r· (05_05)-XNNJySFgZDg.webm\n",
            "[download] 100% of 1.46MiB in 00:03\n",
            "[ffmpeg] Destination: Helen Mirren - Elizabeth I - Long t·r·a·i·le·r· (05_05)-XNNJySFgZDg.wav\n",
            "Deleting original file Helen Mirren - Elizabeth I - Long t·r·a·i·le·r· (05_05)-XNNJySFgZDg.webm (pass -k to keep)\n",
            "[youtube] tgO03BFtvSc: Downloading webpage\n",
            "[youtube] tgO03BFtvSc: Downloading video info webpage\n",
            "[youtube] tgO03BFtvSc: Downloading js player vflHWPv1o\n",
            "[youtube] tgO03BFtvSc: Downloading js player vflHWPv1o\n",
            "[download] Destination: Gnomeo and Juliet Official Trailer (HD)-tgO03BFtvSc.webm\n",
            "[download] 100% of 2.38MiB in 00:00\n",
            "[ffmpeg] Destination: Gnomeo and Juliet Official Trailer (HD)-tgO03BFtvSc.wav\n",
            "Deleting original file Gnomeo and Juliet Official Trailer (HD)-tgO03BFtvSc.webm (pass -k to keep)\n",
            "[youtube] b2v4H4vdVrY: Downloading webpage\n",
            "[youtube] b2v4H4vdVrY: Downloading video info webpage\n"
          ],
          "name": "stdout"
        },
        {
          "output_type": "stream",
          "text": [
            "WARNING: Unable to extract video title\n",
            "WARNING: unable to extract description; please report this issue on https://yt-dl.org/bug . Make sure you are using the latest version; see  https://yt-dl.org/update  on how to update. Be sure to call youtube-dl with the --verbose flag and include its complete output.\n",
            "ERROR: This video is no longer available because the YouTube account associated with this video has been terminated.\n",
            "Sorry about that.\n"
          ],
          "name": "stderr"
        },
        {
          "output_type": "stream",
          "text": [
            "[youtube] f9VspqcwtJQ: Downloading webpage\n",
            "[youtube] f9VspqcwtJQ: Downloading video info webpage\n"
          ],
          "name": "stdout"
        },
        {
          "output_type": "stream",
          "text": [
            "WARNING: Unable to extract video title\n",
            "WARNING: unable to extract description; please report this issue on https://yt-dl.org/bug . Make sure you are using the latest version; see  https://yt-dl.org/update  on how to update. Be sure to call youtube-dl with the --verbose flag and include its complete output.\n",
            "ERROR: This video is unavailable.\n",
            "Sorry about that.\n"
          ],
          "name": "stderr"
        },
        {
          "output_type": "stream",
          "text": [
            "[youtube] OBik92hLhAY: Downloading webpage\n",
            "[youtube] OBik92hLhAY: Downloading video info webpage\n",
            "[download] Destination: Sanctum [Trailer 1] [HD] 2011-OBik92hLhAY.m4a\n",
            "[download] 100% of 2.23MiB in 00:00\n",
            "[ffmpeg] Correcting container in \"Sanctum [Trailer 1] [HD] 2011-OBik92hLhAY.m4a\"\n",
            "[ffmpeg] Destination: Sanctum [Trailer 1] [HD] 2011-OBik92hLhAY.wav\n",
            "Deleting original file Sanctum [Trailer 1] [HD] 2011-OBik92hLhAY.m4a (pass -k to keep)\n",
            "[youtube] uakoUpfoWfA: Downloading webpage\n",
            "[youtube] uakoUpfoWfA: Downloading video info webpage\n"
          ],
          "name": "stdout"
        },
        {
          "output_type": "stream",
          "text": [
            "WARNING: Unable to extract video title\n",
            "WARNING: unable to extract description; please report this issue on https://yt-dl.org/bug . Make sure you are using the latest version; see  https://yt-dl.org/update  on how to update. Be sure to call youtube-dl with the --verbose flag and include its complete output.\n",
            "ERROR: This video is unavailable.\n",
            "Sorry about that.\n"
          ],
          "name": "stderr"
        },
        {
          "output_type": "stream",
          "text": [
            "[youtube] GOLzfxrgvKM: Downloading webpage\n",
            "[youtube] GOLzfxrgvKM: Downloading video info webpage\n"
          ],
          "name": "stdout"
        },
        {
          "output_type": "stream",
          "text": [
            "WARNING: Unable to extract video title\n",
            "WARNING: unable to extract description; please report this issue on https://yt-dl.org/bug . Make sure you are using the latest version; see  https://yt-dl.org/update  on how to update. Be sure to call youtube-dl with the --verbose flag and include its complete output.\n",
            "ERROR: This video is unavailable.\n",
            "Sorry about that.\n"
          ],
          "name": "stderr"
        },
        {
          "output_type": "stream",
          "text": [
            "[youtube] k106g-XDZ8g: Downloading webpage\n",
            "[youtube] k106g-XDZ8g: Downloading video info webpage\n",
            "[download] Destination: From Prada to Nada Extended Trailer w_ Interviews-k106g-XDZ8g.webm\n",
            "[download] 100% of 1.33MiB in 00:00\n",
            "[ffmpeg] Destination: From Prada to Nada Extended Trailer w_ Interviews-k106g-XDZ8g.wav\n",
            "Deleting original file From Prada to Nada Extended Trailer w_ Interviews-k106g-XDZ8g.webm (pass -k to keep)\n",
            "[youtube] sDWU_cFU9ZA: Downloading webpage\n",
            "[youtube] sDWU_cFU9ZA: Downloading video info webpage\n",
            "[download] Destination: FOR COLORED  GIRLS - Trailer-sDWU_cFU9ZA.m4a\n",
            "[download] 100% of 2.21MiB in 00:00\n",
            "[ffmpeg] Correcting container in \"FOR COLORED  GIRLS - Trailer-sDWU_cFU9ZA.m4a\"\n",
            "[ffmpeg] Destination: FOR COLORED  GIRLS - Trailer-sDWU_cFU9ZA.wav\n",
            "Deleting original file FOR COLORED  GIRLS - Trailer-sDWU_cFU9ZA.m4a (pass -k to keep)\n",
            "[youtube] u6PZUsD9Ygk: Downloading webpage\n",
            "[youtube] u6PZUsD9Ygk: Downloading video info webpage\n",
            "[download] Destination: All-Star Superman Trailer-u6PZUsD9Ygk.webm\n",
            "[download] 100% of 1.30MiB in 00:00\n",
            "[ffmpeg] Destination: All-Star Superman Trailer-u6PZUsD9Ygk.wav\n",
            "Deleting original file All-Star Superman Trailer-u6PZUsD9Ygk.webm (pass -k to keep)\n",
            "[youtube] H5p-Q1yuyJE: Downloading webpage\n",
            "[youtube] H5p-Q1yuyJE: Downloading video info webpage\n",
            "[download] Destination: DOG POUND - Trailer - A Film from Kim Chapiron-H5p-Q1yuyJE.webm\n",
            "[download] 100% of 1.89MiB in 00:00\n",
            "[ffmpeg] Destination: DOG POUND - Trailer - A Film from Kim Chapiron-H5p-Q1yuyJE.wav\n",
            "Deleting original file DOG POUND - Trailer - A Film from Kim Chapiron-H5p-Q1yuyJE.webm (pass -k to keep)\n",
            "[youtube] _hG3ktopqv8: Downloading webpage\n",
            "[youtube] _hG3ktopqv8: Downloading video info webpage\n",
            "[download] Destination: 'The Rite' Trailer-_hG3ktopqv8.webm\n",
            "[download] 100% of 1.80MiB in 00:00\n",
            "[ffmpeg] Destination: 'The Rite' Trailer-_hG3ktopqv8.wav\n",
            "Deleting original file 'The Rite' Trailer-_hG3ktopqv8.webm (pass -k to keep)\n",
            "[youtube] xU4ReVEemN0: Downloading webpage\n",
            "[youtube] xU4ReVEemN0: Downloading video info webpage\n"
          ],
          "name": "stdout"
        },
        {
          "output_type": "stream",
          "text": [
            "WARNING: Unable to extract video title\n",
            "WARNING: unable to extract description; please report this issue on https://yt-dl.org/bug . Make sure you are using the latest version; see  https://yt-dl.org/update  on how to update. Be sure to call youtube-dl with the --verbose flag and include its complete output.\n",
            "ERROR: This video is unavailable.\n",
            "Sorry about that.\n"
          ],
          "name": "stderr"
        },
        {
          "output_type": "stream",
          "text": [
            "[youtube] Ubfcfs98MBw: Downloading webpage\n",
            "[youtube] Ubfcfs98MBw: Downloading video info webpage\n",
            "[download] Destination: 'No Strings Attached' Trailer HD-Ubfcfs98MBw.webm\n",
            "[download] 100% of 2.24MiB in 00:00\n",
            "[ffmpeg] Destination: 'No Strings Attached' Trailer HD-Ubfcfs98MBw.wav\n",
            "Deleting original file 'No Strings Attached' Trailer HD-Ubfcfs98MBw.webm (pass -k to keep)\n",
            "[youtube] Pviq6Tw5sNA: Downloading webpage\n",
            "[youtube] Pviq6Tw5sNA: Downloading video info webpage\n",
            "[download] Destination: Home Alone 4 (2002) Trailer-Pviq6Tw5sNA.webm\n",
            "[download] 100% of 3.70MiB in 00:00\n",
            "[ffmpeg] Destination: Home Alone 4 (2002) Trailer-Pviq6Tw5sNA.wav\n",
            "Deleting original file Home Alone 4 (2002) Trailer-Pviq6Tw5sNA.webm (pass -k to keep)\n",
            "[youtube] QYLLFpNn4lM: Downloading webpage\n",
            "[youtube] QYLLFpNn4lM: Downloading video info webpage\n",
            "[download] Destination: Zeitgeist - Moving Forward _ Official Trailer - [ Extended ]-QYLLFpNn4lM.webm\n",
            "[download] 100% of 5.63MiB in 00:00\n",
            "[ffmpeg] Destination: Zeitgeist - Moving Forward _ Official Trailer - [ Extended ]-QYLLFpNn4lM.wav\n",
            "Deleting original file Zeitgeist - Moving Forward _ Official Trailer - [ Extended ]-QYLLFpNn4lM.webm (pass -k to keep)\n",
            "[youtube] HlSPOzQG-Uk: Downloading webpage\n",
            "[youtube] HlSPOzQG-Uk: Downloading video info webpage\n",
            "[download] Destination: Welcome to the Rileys Movie Trailer - Official (HD) with Kristen Stewart-HlSPOzQG-Uk.webm\n",
            "[download] 100% of 2.09MiB in 00:00\n",
            "[ffmpeg] Destination: Welcome to the Rileys Movie Trailer - Official (HD) with Kristen Stewart-HlSPOzQG-Uk.wav\n",
            "Deleting original file Welcome to the Rileys Movie Trailer - Official (HD) with Kristen Stewart-HlSPOzQG-Uk.webm (pass -k to keep)\n",
            "[youtube] lfjROoB2O-A: Downloading webpage\n",
            "[youtube] lfjROoB2O-A: Downloading video info webpage\n",
            "[download] Destination: Even the Rain Trailer 2010 (HD)-lfjROoB2O-A.webm\n",
            "[download] 100% of 2.03MiB in 00:00\n",
            "[ffmpeg] Destination: Even the Rain Trailer 2010 (HD)-lfjROoB2O-A.wav\n",
            "Deleting original file Even the Rain Trailer 2010 (HD)-lfjROoB2O-A.webm (pass -k to keep)\n",
            "[youtube] RyDH-BhkGDA: Downloading webpage\n",
            "[youtube] RyDH-BhkGDA: Downloading video info webpage\n"
          ],
          "name": "stdout"
        },
        {
          "output_type": "stream",
          "text": [
            "WARNING: Unable to extract video title\n",
            "WARNING: unable to extract description; please report this issue on https://yt-dl.org/bug . Make sure you are using the latest version; see  https://yt-dl.org/update  on how to update. Be sure to call youtube-dl with the --verbose flag and include its complete output.\n",
            "ERROR: This video is unavailable.\n",
            "Sorry about that.\n"
          ],
          "name": "stderr"
        },
        {
          "output_type": "stream",
          "text": [
            "[youtube] i-7DcNrgF0I: Downloading webpage\n",
            "[youtube] i-7DcNrgF0I: Downloading video info webpage\n",
            "[download] Destination: Simple Simon Official Trailer-i-7DcNrgF0I.webm\n",
            "[download] 100% of 1.42MiB in 00:00\n",
            "[ffmpeg] Destination: Simple Simon Official Trailer-i-7DcNrgF0I.wav\n",
            "Deleting original file Simple Simon Official Trailer-i-7DcNrgF0I.webm (pass -k to keep)\n",
            "[youtube] oOxSvFKrHew: Downloading webpage\n",
            "[youtube] oOxSvFKrHew: Downloading video info webpage\n",
            "[download] Destination: I SPIT ON YOUR GRAVE (2010) -- HD Teaser Trailer-oOxSvFKrHew.m4a\n",
            "[download] 100% of 1.03MiB in 00:00\n",
            "[ffmpeg] Correcting container in \"I SPIT ON YOUR GRAVE (2010) -- HD Teaser Trailer-oOxSvFKrHew.m4a\"\n",
            "[ffmpeg] Destination: I SPIT ON YOUR GRAVE (2010) -- HD Teaser Trailer-oOxSvFKrHew.wav\n",
            "Deleting original file I SPIT ON YOUR GRAVE (2010) -- HD Teaser Trailer-oOxSvFKrHew.m4a (pass -k to keep)\n",
            "[youtube] CUCOMe2qx0k: Downloading webpage\n",
            "[youtube] CUCOMe2qx0k: Downloading video info webpage\n",
            "[download] Destination: EVANGELION 2.22 Theatrical Trailer-CUCOMe2qx0k.webm\n",
            "[download] 100% of 2.51MiB in 00:00\n",
            "[ffmpeg] Destination: EVANGELION 2.22 Theatrical Trailer-CUCOMe2qx0k.wav\n",
            "Deleting original file EVANGELION 2.22 Theatrical Trailer-CUCOMe2qx0k.webm (pass -k to keep)\n",
            "[youtube] tocZvMfYBMw: Downloading webpage\n",
            "[youtube] tocZvMfYBMw: Downloading video info webpage\n",
            "[download] Destination: Happy People A Year In The Taiga _ trailer US (2013) Werner Herzog-tocZvMfYBMw.webm\n",
            "[download] 100% of 1.57MiB in 00:00\n",
            "[ffmpeg] Destination: Happy People A Year In The Taiga _ trailer US (2013) Werner Herzog-tocZvMfYBMw.wav\n",
            "Deleting original file Happy People A Year In The Taiga _ trailer US (2013) Werner Herzog-tocZvMfYBMw.webm (pass -k to keep)\n",
            "[youtube] 6d1Uc68wt3c: Downloading webpage\n",
            "[youtube] 6d1Uc68wt3c: Downloading video info webpage\n",
            "[download] Destination: 'Limitless' Trailer HD-6d1Uc68wt3c.m4a\n",
            "[download] 100% of 2.25MiB in 00:00\n",
            "[ffmpeg] Correcting container in \"'Limitless' Trailer HD-6d1Uc68wt3c.m4a\"\n",
            "[ffmpeg] Destination: 'Limitless' Trailer HD-6d1Uc68wt3c.wav\n",
            "Deleting original file 'Limitless' Trailer HD-6d1Uc68wt3c.m4a (pass -k to keep)\n",
            "[youtube] fw4-QDg8f6s: Downloading webpage\n",
            "[youtube] fw4-QDg8f6s: Downloading video info webpage\n"
          ],
          "name": "stdout"
        },
        {
          "output_type": "stream",
          "text": [
            "WARNING: Unable to extract video title\n",
            "WARNING: unable to extract description; please report this issue on https://yt-dl.org/bug . Make sure you are using the latest version; see  https://yt-dl.org/update  on how to update. Be sure to call youtube-dl with the --verbose flag and include its complete output.\n",
            "ERROR: This video is unavailable.\n",
            "Sorry about that.\n"
          ],
          "name": "stderr"
        },
        {
          "output_type": "stream",
          "text": [
            "[youtube] 4zEElVttaPg: Downloading webpage\n",
            "[youtube] 4zEElVttaPg: Downloading video info webpage\n",
            "[download] Destination: Poetry Trailer 2011 HD Official-4zEElVttaPg.webm\n",
            "[download] 100% of 1.71MiB in 00:00\n",
            "[ffmpeg] Destination: Poetry Trailer 2011 HD Official-4zEElVttaPg.wav\n",
            "Deleting original file Poetry Trailer 2011 HD Official-4zEElVttaPg.webm (pass -k to keep)\n",
            "[youtube] Xxq-I_e_KXg: Downloading webpage\n",
            "[youtube] Xxq-I_e_KXg: Downloading video info webpage\n"
          ],
          "name": "stdout"
        },
        {
          "output_type": "stream",
          "text": [
            "WARNING: Unable to extract video title\n",
            "WARNING: unable to extract description; please report this issue on https://yt-dl.org/bug . Make sure you are using the latest version; see  https://yt-dl.org/update  on how to update. Be sure to call youtube-dl with the --verbose flag and include its complete output.\n",
            "ERROR: This video is unavailable.\n",
            "Sorry about that.\n"
          ],
          "name": "stderr"
        },
        {
          "output_type": "stream",
          "text": [
            "[youtube] a9dMTnpDyA4: Downloading webpage\n",
            "[youtube] a9dMTnpDyA4: Downloading video info webpage\n",
            "[download] Destination: Wicked Little Things (2006) - Trailer-a9dMTnpDyA4.webm\n",
            "[download] 100% of 1.77MiB in 00:00\n",
            "[ffmpeg] Destination: Wicked Little Things (2006) - Trailer-a9dMTnpDyA4.wav\n",
            "Deleting original file Wicked Little Things (2006) - Trailer-a9dMTnpDyA4.webm (pass -k to keep)\n",
            "[youtube] TU8JFk7aXyA: Downloading webpage\n",
            "[youtube] TU8JFk7aXyA: Downloading video info webpage\n",
            "[download] Destination: 'The Dilemma' Trailer HD-TU8JFk7aXyA.webm\n",
            "[download] 100% of 2.60MiB in 00:00\n",
            "[ffmpeg] Destination: 'The Dilemma' Trailer HD-TU8JFk7aXyA.wav\n",
            "Deleting original file 'The Dilemma' Trailer HD-TU8JFk7aXyA.webm (pass -k to keep)\n",
            "[youtube] tU2xyM_2jIE: Downloading webpage\n",
            "[youtube] tU2xyM_2jIE: Downloading video info webpage\n",
            "[download] Destination: Cracks Trailer - HD-tU2xyM_2jIE.webm\n",
            "[download] 100% of 1.91MiB in 00:00\n",
            "[ffmpeg] Destination: Cracks Trailer - HD-tU2xyM_2jIE.wav\n",
            "Deleting original file Cracks Trailer - HD-tU2xyM_2jIE.webm (pass -k to keep)\n",
            "[youtube] RBZVsLoSsDU: Downloading webpage\n",
            "[youtube] RBZVsLoSsDU: Downloading video info webpage\n",
            "[download] Destination: ANYTHING FOR HER - trailer-RBZVsLoSsDU.webm\n",
            "[download] 100% of 1.62MiB in 00:00\n",
            "[ffmpeg] Destination: ANYTHING FOR HER - trailer-RBZVsLoSsDU.wav\n",
            "Deleting original file ANYTHING FOR HER - trailer-RBZVsLoSsDU.webm (pass -k to keep)\n",
            "[youtube] OgBqfw0hINM: Downloading webpage\n",
            "[youtube] OgBqfw0hINM: Downloading video info webpage\n",
            "[download] Destination: Cowboys & Aliens - Trailer-OgBqfw0hINM.webm\n",
            "[download] 100% of 2.14MiB in 00:00\n",
            "[ffmpeg] Destination: Cowboys & Aliens - Trailer-OgBqfw0hINM.wav\n",
            "Deleting original file Cowboys & Aliens - Trailer-OgBqfw0hINM.webm (pass -k to keep)\n",
            "[youtube] P2uQWKleAzM: Downloading webpage\n",
            "[youtube] P2uQWKleAzM: Downloading video info webpage\n"
          ],
          "name": "stdout"
        },
        {
          "output_type": "stream",
          "text": [
            "WARNING: Unable to extract video title\n",
            "WARNING: unable to extract description; please report this issue on https://yt-dl.org/bug . Make sure you are using the latest version; see  https://yt-dl.org/update  on how to update. Be sure to call youtube-dl with the --verbose flag and include its complete output.\n",
            "ERROR: This video is unavailable.\n",
            "Sorry about that.\n"
          ],
          "name": "stderr"
        },
        {
          "output_type": "stream",
          "text": [
            "[youtube] r3-l1achSeQ: Downloading webpage\n",
            "[youtube] r3-l1achSeQ: Downloading video info webpage\n",
            "[download] Destination: OUTRAGE by Takeshi Kitano - Trailer-r3-l1achSeQ.webm\n",
            "[download] 100% of 1.73MiB in 00:00\n",
            "[ffmpeg] Destination: OUTRAGE by Takeshi Kitano - Trailer-r3-l1achSeQ.wav\n",
            "Deleting original file OUTRAGE by Takeshi Kitano - Trailer-r3-l1achSeQ.webm (pass -k to keep)\n",
            "[youtube] YHR56TdWC44: Downloading webpage\n",
            "[youtube] YHR56TdWC44: Downloading video info webpage\n"
          ],
          "name": "stdout"
        },
        {
          "output_type": "stream",
          "text": [
            "WARNING: Unable to extract video title\n",
            "WARNING: unable to extract description; please report this issue on https://yt-dl.org/bug . Make sure you are using the latest version; see  https://yt-dl.org/update  on how to update. Be sure to call youtube-dl with the --verbose flag and include its complete output.\n",
            "ERROR: This video is unavailable.\n",
            "Sorry about that.\n"
          ],
          "name": "stderr"
        },
        {
          "output_type": "stream",
          "text": [
            "[youtube] 4DuSVxM36r4: Downloading webpage\n",
            "[youtube] 4DuSVxM36r4: Downloading video info webpage\n",
            "[download] Destination: Ong Bak 3 (Official Trailer) HD-4DuSVxM36r4.webm\n",
            "[download] 100% of 1.11MiB in 00:00\n",
            "[ffmpeg] Destination: Ong Bak 3 (Official Trailer) HD-4DuSVxM36r4.wav\n",
            "Deleting original file Ong Bak 3 (Official Trailer) HD-4DuSVxM36r4.webm (pass -k to keep)\n",
            "[youtube] un8uZyv0R74: Downloading webpage\n",
            "[youtube] un8uZyv0R74: Downloading video info webpage\n"
          ],
          "name": "stdout"
        },
        {
          "output_type": "stream",
          "text": [
            "WARNING: Unable to extract video title\n",
            "WARNING: unable to extract description; please report this issue on https://yt-dl.org/bug . Make sure you are using the latest version; see  https://yt-dl.org/update  on how to update. Be sure to call youtube-dl with the --verbose flag and include its complete output.\n",
            "ERROR: This video is unavailable.\n",
            "Sorry about that.\n"
          ],
          "name": "stderr"
        },
        {
          "output_type": "stream",
          "text": [
            "[youtube] XvWbUj_jlMw: Downloading webpage\n",
            "[youtube] XvWbUj_jlMw: Downloading video info webpage\n",
            "[download] Destination: Fortress of War 2010 Trailer-XvWbUj_jlMw.webm\n",
            "[download] 100% of 1.65MiB in 00:00\n",
            "[ffmpeg] Destination: Fortress of War 2010 Trailer-XvWbUj_jlMw.wav\n",
            "Deleting original file Fortress of War 2010 Trailer-XvWbUj_jlMw.webm (pass -k to keep)\n",
            "[youtube] jEccwrX6AgQ: Downloading webpage\n",
            "[youtube] jEccwrX6AgQ: Downloading video info webpage\n",
            "[download] Destination: Ghajini Trailer-jEccwrX6AgQ.m4a\n",
            "[download] 100% of 1.32MiB in 00:00\n",
            "[ffmpeg] Correcting container in \"Ghajini Trailer-jEccwrX6AgQ.m4a\"\n",
            "[ffmpeg] Destination: Ghajini Trailer-jEccwrX6AgQ.wav\n",
            "Deleting original file Ghajini Trailer-jEccwrX6AgQ.m4a (pass -k to keep)\n",
            "[youtube] 0Z8xYMomsDc: Downloading webpage\n",
            "[youtube] 0Z8xYMomsDc: Downloading video info webpage\n"
          ],
          "name": "stdout"
        },
        {
          "output_type": "stream",
          "text": [
            "WARNING: Unable to extract video title\n",
            "WARNING: unable to extract description; please report this issue on https://yt-dl.org/bug . Make sure you are using the latest version; see  https://yt-dl.org/update  on how to update. Be sure to call youtube-dl with the --verbose flag and include its complete output.\n",
            "ERROR: This video is unavailable.\n",
            "Sorry about that.\n"
          ],
          "name": "stderr"
        },
        {
          "output_type": "stream",
          "text": [
            "[youtube] 87kezJTpyMI: Downloading webpage\n",
            "[youtube] 87kezJTpyMI: Downloading video info webpage\n"
          ],
          "name": "stdout"
        },
        {
          "output_type": "stream",
          "text": [
            "WARNING: Unable to extract video title\n",
            "WARNING: unable to extract description; please report this issue on https://yt-dl.org/bug . Make sure you are using the latest version; see  https://yt-dl.org/update  on how to update. Be sure to call youtube-dl with the --verbose flag and include its complete output.\n",
            "ERROR: This video is unavailable.\n",
            "Sorry about that.\n"
          ],
          "name": "stderr"
        },
        {
          "output_type": "stream",
          "text": [
            "[youtube] PMA-taGtfXs: Downloading webpage\n",
            "[youtube] PMA-taGtfXs: Downloading video info webpage\n",
            "[download] Destination: Watch the Official The Green Hornet Trailer in HD-PMA-taGtfXs.webm\n",
            "[download] 100% of 2.07MiB in 00:00\n",
            "[ffmpeg] Destination: Watch the Official The Green Hornet Trailer in HD-PMA-taGtfXs.wav\n",
            "Deleting original file Watch the Official The Green Hornet Trailer in HD-PMA-taGtfXs.webm (pass -k to keep)\n",
            "[youtube] Ej8jaARbYkk: Downloading webpage\n",
            "[youtube] Ej8jaARbYkk: Downloading video info webpage\n",
            "[download] Destination: TRAIN Trailer-Ej8jaARbYkk.m4a\n",
            "[download] 100% of 2.18MiB in 00:00\n",
            "[ffmpeg] Correcting container in \"TRAIN Trailer-Ej8jaARbYkk.m4a\"\n",
            "[ffmpeg] Destination: TRAIN Trailer-Ej8jaARbYkk.wav\n",
            "Deleting original file TRAIN Trailer-Ej8jaARbYkk.m4a (pass -k to keep)\n",
            "[youtube] dsrnWaVHm64: Downloading webpage\n",
            "[youtube] dsrnWaVHm64: Downloading video info webpage\n",
            "[download] Destination: Last Night Official Trailer (HD) US-dsrnWaVHm64.webm\n",
            "[download] 100% of 2.65MiB in 00:00\n",
            "[ffmpeg] Destination: Last Night Official Trailer (HD) US-dsrnWaVHm64.wav\n",
            "Deleting original file Last Night Official Trailer (HD) US-dsrnWaVHm64.webm (pass -k to keep)\n",
            "[youtube] sNlwh8vT2NU: Downloading webpage\n",
            "[youtube] sNlwh8vT2NU: Downloading video info webpage\n",
            "[download] Destination: Waste Land (2010) - Official Trailer [HD]-sNlwh8vT2NU.m4a\n",
            "[download] 100% of 2.06MiB in 00:00\n",
            "[ffmpeg] Correcting container in \"Waste Land (2010) - Official Trailer [HD]-sNlwh8vT2NU.m4a\"\n",
            "[ffmpeg] Destination: Waste Land (2010) - Official Trailer [HD]-sNlwh8vT2NU.wav\n",
            "Deleting original file Waste Land (2010) - Official Trailer [HD]-sNlwh8vT2NU.m4a (pass -k to keep)\n",
            "[youtube] DZ509hHkHO8: Downloading webpage\n",
            "[youtube] DZ509hHkHO8: Downloading video info webpage\n"
          ],
          "name": "stdout"
        },
        {
          "output_type": "stream",
          "text": [
            "WARNING: Unable to extract video title\n",
            "WARNING: unable to extract description; please report this issue on https://yt-dl.org/bug . Make sure you are using the latest version; see  https://yt-dl.org/update  on how to update. Be sure to call youtube-dl with the --verbose flag and include its complete output.\n",
            "ERROR: This video is unavailable.\n",
            "Sorry about that.\n"
          ],
          "name": "stderr"
        },
        {
          "output_type": "stream",
          "text": [
            "[youtube] VorYgCrs_jg: Downloading webpage\n",
            "[youtube] VorYgCrs_jg: Downloading video info webpage\n",
            "[download] Destination: Kaho Na Pyaar Hai (2000) 720p - Full Movie-VorYgCrs_jg.webm\n",
            "[download] 100% of 166.92MiB in 00:10\n",
            "[ffmpeg] Destination: Kaho Na Pyaar Hai (2000) 720p - Full Movie-VorYgCrs_jg.wav\n",
            "Deleting original file Kaho Na Pyaar Hai (2000) 720p - Full Movie-VorYgCrs_jg.webm (pass -k to keep)\n",
            "[youtube] 6_PICERkOSs: Downloading webpage\n",
            "[youtube] 6_PICERkOSs: Downloading video info webpage\n"
          ],
          "name": "stdout"
        },
        {
          "output_type": "stream",
          "text": [
            "WARNING: Unable to extract video title\n",
            "WARNING: unable to extract description; please report this issue on https://yt-dl.org/bug . Make sure you are using the latest version; see  https://yt-dl.org/update  on how to update. Be sure to call youtube-dl with the --verbose flag and include its complete output.\n",
            "ERROR: This video is no longer available because the YouTube account associated with this video has been terminated.\n",
            "Sorry about that.\n"
          ],
          "name": "stderr"
        },
        {
          "output_type": "stream",
          "text": [
            "[youtube] 1uaDma1o6VY: Downloading webpage\n",
            "[youtube] 1uaDma1o6VY: Downloading video info webpage\n",
            "[download] Destination: The Pixar Story - Trailer-1uaDma1o6VY.m4a\n",
            "[download] 100% of 1.43MiB in 00:00\n",
            "[ffmpeg] Correcting container in \"The Pixar Story - Trailer-1uaDma1o6VY.m4a\"\n",
            "[ffmpeg] Destination: The Pixar Story - Trailer-1uaDma1o6VY.wav\n",
            "Deleting original file The Pixar Story - Trailer-1uaDma1o6VY.m4a (pass -k to keep)\n",
            "[youtube] 7TX2jEdwX2c: Downloading webpage\n",
            "[youtube] 7TX2jEdwX2c: Downloading video info webpage\n",
            "[download] Destination: Yogi Bear 3D - (2010) Official Teaser Trailer-7TX2jEdwX2c.m4a\n",
            "[download] 100% of 1.47MiB in 00:00\n",
            "[ffmpeg] Correcting container in \"Yogi Bear 3D - (2010) Official Teaser Trailer-7TX2jEdwX2c.m4a\"\n",
            "[ffmpeg] Destination: Yogi Bear 3D - (2010) Official Teaser Trailer-7TX2jEdwX2c.wav\n",
            "Deleting original file Yogi Bear 3D - (2010) Official Teaser Trailer-7TX2jEdwX2c.m4a (pass -k to keep)\n",
            "[youtube] m6Apg2SNGFo: Downloading webpage\n",
            "[youtube] m6Apg2SNGFo: Downloading video info webpage\n",
            "[download] Destination: Tucker and Dale vs Evil 2010 Official Trailer-m6Apg2SNGFo.webm\n",
            "[download] 100% of 2.16MiB in 00:00\n",
            "[ffmpeg] Destination: Tucker and Dale vs Evil 2010 Official Trailer-m6Apg2SNGFo.wav\n",
            "Deleting original file Tucker and Dale vs Evil 2010 Official Trailer-m6Apg2SNGFo.webm (pass -k to keep)\n",
            "[youtube] 3tVTwN4a0No: Downloading webpage\n",
            "[youtube] 3tVTwN4a0No: Downloading video info webpage\n",
            "[download] Destination: 'The Secret World of Arrietty' Trailer-3tVTwN4a0No.webm\n",
            "[download] 100% of 2.19MiB in 00:00\n",
            "[ffmpeg] Destination: 'The Secret World of Arrietty' Trailer-3tVTwN4a0No.wav\n",
            "Deleting original file 'The Secret World of Arrietty' Trailer-3tVTwN4a0No.webm (pass -k to keep)\n",
            "[youtube] 1PiPYAz7f0Q: Downloading webpage\n",
            "[youtube] 1PiPYAz7f0Q: Downloading video info webpage\n",
            "[download] Destination: Burlesque - Trailer-1PiPYAz7f0Q.webm\n",
            "[download] 100% of 2.17MiB in 00:00\n",
            "[ffmpeg] Destination: Burlesque - Trailer-1PiPYAz7f0Q.wav\n",
            "Deleting original file Burlesque - Trailer-1PiPYAz7f0Q.webm (pass -k to keep)\n",
            "[youtube] RgZjaxrnlPc: Downloading webpage\n",
            "[youtube] RgZjaxrnlPc: Downloading video info webpage\n"
          ],
          "name": "stdout"
        },
        {
          "output_type": "stream",
          "text": [
            "WARNING: Unable to extract video title\n",
            "WARNING: unable to extract description; please report this issue on https://yt-dl.org/bug . Make sure you are using the latest version; see  https://yt-dl.org/update  on how to update. Be sure to call youtube-dl with the --verbose flag and include its complete output.\n",
            "ERROR: This video is unavailable.\n",
            "Sorry about that.\n"
          ],
          "name": "stderr"
        },
        {
          "output_type": "stream",
          "text": [
            "[youtube] QxYmF8zpHxM: Downloading webpage\n",
            "[youtube] QxYmF8zpHxM: Downloading video info webpage\n"
          ],
          "name": "stdout"
        },
        {
          "output_type": "stream",
          "text": [
            "WARNING: Unable to extract video title\n",
            "WARNING: unable to extract description; please report this issue on https://yt-dl.org/bug . Make sure you are using the latest version; see  https://yt-dl.org/update  on how to update. Be sure to call youtube-dl with the --verbose flag and include its complete output.\n",
            "ERROR: This video is unavailable.\n",
            "Sorry about that.\n"
          ],
          "name": "stderr"
        },
        {
          "output_type": "stream",
          "text": [
            "[youtube] cWSyUTUTwuY: Downloading webpage\n",
            "[youtube] cWSyUTUTwuY: Downloading video info webpage\n"
          ],
          "name": "stdout"
        },
        {
          "output_type": "stream",
          "text": [
            "WARNING: Unable to extract video title\n",
            "WARNING: unable to extract description; please report this issue on https://yt-dl.org/bug . Make sure you are using the latest version; see  https://yt-dl.org/update  on how to update. Be sure to call youtube-dl with the --verbose flag and include its complete output.\n",
            "ERROR: This video is unavailable.\n",
            "Sorry about that.\n"
          ],
          "name": "stderr"
        },
        {
          "output_type": "stream",
          "text": [
            "[youtube] 7mWvqPVBsZk: Downloading webpage\n",
            "[youtube] 7mWvqPVBsZk: Downloading video info webpage\n",
            "[download] Destination: TERE BIN LADEN - OFFICAL TRAILER-7mWvqPVBsZk.webm\n",
            "[download] 100% of 1.01MiB in 00:00\n",
            "[ffmpeg] Destination: TERE BIN LADEN - OFFICAL TRAILER-7mWvqPVBsZk.wav\n",
            "Deleting original file TERE BIN LADEN - OFFICAL TRAILER-7mWvqPVBsZk.webm (pass -k to keep)\n",
            "[youtube] IzBVFkUM7eQ: Downloading webpage\n",
            "[youtube] IzBVFkUM7eQ: Downloading video info webpage\n"
          ],
          "name": "stdout"
        },
        {
          "output_type": "stream",
          "text": [
            "ERROR: This video is not available.\n",
            "Sorry about that.\n"
          ],
          "name": "stderr"
        },
        {
          "output_type": "stream",
          "text": [
            "[youtube] C8sEZAB13_o: Downloading webpage\n",
            "[youtube] C8sEZAB13_o: Downloading video info webpage\n",
            "[download] Destination: The Last Circus Trailer-C8sEZAB13_o.m4a\n",
            "[download] 100% of 1.92MiB in 00:32\n",
            "[ffmpeg] Correcting container in \"The Last Circus Trailer-C8sEZAB13_o.m4a\"\n",
            "[ffmpeg] Destination: The Last Circus Trailer-C8sEZAB13_o.wav\n",
            "Deleting original file The Last Circus Trailer-C8sEZAB13_o.m4a (pass -k to keep)\n",
            "[youtube] jKYVtU7G0IA: Downloading webpage\n"
          ],
          "name": "stdout"
        },
        {
          "output_type": "stream",
          "text": [
            "ERROR: Unable to download webpage: HTTP Error 429: Too Many Requests (caused by <HTTPError 429: 'Too Many Requests'>); please report this issue on https://yt-dl.org/bug . Make sure you are using the latest version; see  https://yt-dl.org/update  on how to update. Be sure to call youtube-dl with the --verbose flag and include its complete output.\n"
          ],
          "name": "stderr"
        },
        {
          "output_type": "stream",
          "text": [
            "[youtube] IM_kAzNzsl4: Downloading webpage\n"
          ],
          "name": "stdout"
        },
        {
          "output_type": "stream",
          "text": [
            "ERROR: Unable to download webpage: HTTP Error 429: Too Many Requests (caused by <HTTPError 429: 'Too Many Requests'>); please report this issue on https://yt-dl.org/bug . Make sure you are using the latest version; see  https://yt-dl.org/update  on how to update. Be sure to call youtube-dl with the --verbose flag and include its complete output.\n"
          ],
          "name": "stderr"
        },
        {
          "output_type": "stream",
          "text": [
            "[youtube] ux2fr7FhaBI: Downloading webpage\n",
            "[youtube] ux2fr7FhaBI: Downloading video info webpage\n"
          ],
          "name": "stdout"
        },
        {
          "output_type": "stream",
          "text": [
            "WARNING: Unable to extract video title\n",
            "WARNING: unable to extract description; please report this issue on https://yt-dl.org/bug . Make sure you are using the latest version; see  https://yt-dl.org/update  on how to update. Be sure to call youtube-dl with the --verbose flag and include its complete output.\n",
            "ERROR: This video is unavailable.\n",
            "Sorry about that.\n"
          ],
          "name": "stderr"
        },
        {
          "output_type": "stream",
          "text": [
            "[youtube] 7OT0ER77SGE: Downloading webpage\n",
            "[youtube] 7OT0ER77SGE: Downloading video info webpage\n"
          ],
          "name": "stdout"
        },
        {
          "output_type": "stream",
          "text": [
            "WARNING: Unable to extract video title\n",
            "WARNING: unable to extract description; please report this issue on https://yt-dl.org/bug . Make sure you are using the latest version; see  https://yt-dl.org/update  on how to update. Be sure to call youtube-dl with the --verbose flag and include its complete output.\n",
            "ERROR: This video is unavailable.\n",
            "Sorry about that.\n"
          ],
          "name": "stderr"
        },
        {
          "output_type": "stream",
          "text": [
            "[youtube] KfmGjA1OJ5A: Downloading webpage\n",
            "[youtube] KfmGjA1OJ5A: Downloading video info webpage\n",
            "[download] Destination: 'Little Fockers' Trailer 2-KfmGjA1OJ5A.m4a\n",
            "[download] 100% of 2.15MiB in 00:00\n",
            "[ffmpeg] Correcting container in \"'Little Fockers' Trailer 2-KfmGjA1OJ5A.m4a\"\n",
            "[ffmpeg] Destination: 'Little Fockers' Trailer 2-KfmGjA1OJ5A.wav\n",
            "Deleting original file 'Little Fockers' Trailer 2-KfmGjA1OJ5A.m4a (pass -k to keep)\n",
            "[youtube] K9iJH2P96dM: Downloading webpage\n",
            "[youtube] K9iJH2P96dM: Downloading video info webpage\n",
            "[download] Destination: 'Rabbit Hole' - Official Trailer-K9iJH2P96dM.webm\n",
            "[download] 100% of 2.29MiB in 00:00\n",
            "[ffmpeg] Destination: 'Rabbit Hole' - Official Trailer-K9iJH2P96dM.wav\n",
            "Deleting original file 'Rabbit Hole' - Official Trailer-K9iJH2P96dM.webm (pass -k to keep)\n",
            "[youtube] AIL5ngreGq4: Downloading webpage\n",
            "[youtube] AIL5ngreGq4: Downloading video info webpage\n",
            "[download] Destination: Jackie Chan Little Big Soldier Trailer-AIL5ngreGq4.webm\n",
            "[download] 100% of 1.16MiB in 00:00\n",
            "[ffmpeg] Destination: Jackie Chan Little Big Soldier Trailer-AIL5ngreGq4.wav\n",
            "Deleting original file Jackie Chan Little Big Soldier Trailer-AIL5ngreGq4.webm (pass -k to keep)\n",
            "[youtube] Buf4_Crt27c: Downloading webpage\n",
            "[youtube] Buf4_Crt27c: Downloading video info webpage\n"
          ],
          "name": "stdout"
        },
        {
          "output_type": "stream",
          "text": [
            "WARNING: Unable to extract video title\n",
            "WARNING: unable to extract description; please report this issue on https://yt-dl.org/bug . Make sure you are using the latest version; see  https://yt-dl.org/update  on how to update. Be sure to call youtube-dl with the --verbose flag and include its complete output.\n",
            "ERROR: This video is unavailable.\n",
            "Sorry about that.\n"
          ],
          "name": "stderr"
        },
        {
          "output_type": "stream",
          "text": [
            "[youtube] 8pSLgO1oeDY: Downloading webpage\n",
            "[youtube] 8pSLgO1oeDY: Downloading video info webpage\n",
            "[download] Destination: We Are the Night (2011) - Official Trailer [HD]-8pSLgO1oeDY.webm\n",
            "[download] 100% of 1.94MiB in 00:00\n",
            "[ffmpeg] Destination: We Are the Night (2011) - Official Trailer [HD]-8pSLgO1oeDY.wav\n",
            "Deleting original file We Are the Night (2011) - Official Trailer [HD]-8pSLgO1oeDY.webm (pass -k to keep)\n",
            "[youtube] xwWgp1bqVwE: Downloading webpage\n",
            "[youtube] xwWgp1bqVwE: Downloading video info webpage\n",
            "[download] Destination: I Saw The Devil Trailer-xwWgp1bqVwE.webm\n",
            "[download] 100% of 1.97MiB in 00:00\n",
            "[ffmpeg] Destination: I Saw The Devil Trailer-xwWgp1bqVwE.wav\n",
            "Deleting original file I Saw The Devil Trailer-xwWgp1bqVwE.webm (pass -k to keep)\n",
            "[youtube] PmNhYzQMQtU: Downloading webpage\n",
            "[youtube] PmNhYzQMQtU: Downloading video info webpage\n",
            "[download] Destination: Kuroneko (Black Cat) - Original Japanese Trailer (Kaneto Shindo, 1968)-PmNhYzQMQtU.webm\n",
            "[download] 100% of 2.47MiB in 00:00\n",
            "[ffmpeg] Destination: Kuroneko (Black Cat) - Original Japanese Trailer (Kaneto Shindo, 1968)-PmNhYzQMQtU.wav\n",
            "Deleting original file Kuroneko (Black Cat) - Original Japanese Trailer (Kaneto Shindo, 1968)-PmNhYzQMQtU.webm (pass -k to keep)\n",
            "[youtube] H87uMXAQzjc: Downloading webpage\n",
            "[youtube] H87uMXAQzjc: Downloading video info webpage\n"
          ],
          "name": "stdout"
        },
        {
          "output_type": "stream",
          "text": [
            "WARNING: Unable to extract video title\n",
            "WARNING: unable to extract description; please report this issue on https://yt-dl.org/bug . Make sure you are using the latest version; see  https://yt-dl.org/update  on how to update. Be sure to call youtube-dl with the --verbose flag and include its complete output.\n",
            "ERROR: This video is unavailable.\n",
            "Sorry about that.\n"
          ],
          "name": "stderr"
        },
        {
          "output_type": "stream",
          "text": [
            "[youtube] dtnPGuvmnug: Downloading webpage\n",
            "[youtube] dtnPGuvmnug: Downloading video info webpage\n",
            "[download] Destination: DYING BREED - TRAILER-dtnPGuvmnug.webm\n",
            "[download] 100% of 2.21MiB in 00:00\n",
            "[ffmpeg] Destination: DYING BREED - TRAILER-dtnPGuvmnug.wav\n",
            "Deleting original file DYING BREED - TRAILER-dtnPGuvmnug.webm (pass -k to keep)\n",
            "[youtube] xa5qg7cB1ZQ: Downloading webpage\n",
            "[youtube] xa5qg7cB1ZQ: Downloading video info webpage\n",
            "[download] Destination: 'The Company Men' Trailer HD-xa5qg7cB1ZQ.webm\n",
            "[download] 100% of 2.17MiB in 00:00\n",
            "[ffmpeg] Destination: 'The Company Men' Trailer HD-xa5qg7cB1ZQ.wav\n",
            "Deleting original file 'The Company Men' Trailer HD-xa5qg7cB1ZQ.webm (pass -k to keep)\n",
            "[youtube] nsfjXNMQt8I: Downloading webpage\n",
            "[youtube] nsfjXNMQt8I: Downloading video info webpage\n"
          ],
          "name": "stdout"
        },
        {
          "output_type": "stream",
          "text": [
            "WARNING: Unable to extract video title\n",
            "WARNING: unable to extract description; please report this issue on https://yt-dl.org/bug . Make sure you are using the latest version; see  https://yt-dl.org/update  on how to update. Be sure to call youtube-dl with the --verbose flag and include its complete output.\n",
            "ERROR: This video is unavailable.\n",
            "Sorry about that.\n"
          ],
          "name": "stderr"
        },
        {
          "output_type": "stream",
          "text": [
            "[youtube] 8u_gSd9eIO8: Downloading webpage\n",
            "[youtube] 8u_gSd9eIO8: Downloading video info webpage\n",
            "[download] Destination: How Do You Know Official Trailer #1 - (2010) HD-8u_gSd9eIO8.webm\n",
            "[download] 100% of 2.58MiB in 00:00\n",
            "[ffmpeg] Destination: How Do You Know Official Trailer #1 - (2010) HD-8u_gSd9eIO8.wav\n",
            "Deleting original file How Do You Know Official Trailer #1 - (2010) HD-8u_gSd9eIO8.webm (pass -k to keep)\n",
            "[youtube] ilv0aVRJPps: Downloading webpage\n",
            "[youtube] ilv0aVRJPps: Downloading video info webpage\n"
          ],
          "name": "stdout"
        },
        {
          "output_type": "stream",
          "text": [
            "WARNING: Unable to extract video title\n",
            "WARNING: unable to extract description; please report this issue on https://yt-dl.org/bug . Make sure you are using the latest version; see  https://yt-dl.org/update  on how to update. Be sure to call youtube-dl with the --verbose flag and include its complete output.\n",
            "ERROR: This video is unavailable.\n",
            "Sorry about that.\n"
          ],
          "name": "stderr"
        },
        {
          "output_type": "stream",
          "text": [
            "[youtube] L9szn1QQfas: Downloading webpage\n",
            "[youtube] L9szn1QQfas: Downloading video info webpage\n",
            "[download] Destination: TRON - LEGACY Official Trailer-L9szn1QQfas.webm\n",
            "[download] 100% of 2.00MiB in 00:00\n",
            "[ffmpeg] Destination: TRON - LEGACY Official Trailer-L9szn1QQfas.wav\n",
            "Deleting original file TRON - LEGACY Official Trailer-L9szn1QQfas.webm (pass -k to keep)\n",
            "[youtube] unEO_p71cik: Downloading webpage\n",
            "[youtube] unEO_p71cik: Downloading video info webpage\n",
            "[download] Destination: True Grit [Trailer 1] [HD] 2010-unEO_p71cik.webm\n",
            "[download] 100% of 1.08MiB in 00:00\n",
            "[ffmpeg] Destination: True Grit [Trailer 1] [HD] 2010-unEO_p71cik.wav\n",
            "Deleting original file True Grit [Trailer 1] [HD] 2010-unEO_p71cik.webm (pass -k to keep)\n",
            "[youtube] f_KhErNyiq8: Downloading webpage\n",
            "[youtube] f_KhErNyiq8: Downloading video info webpage\n"
          ],
          "name": "stdout"
        },
        {
          "output_type": "stream",
          "text": [
            "WARNING: Unable to extract video title\n",
            "WARNING: unable to extract description; please report this issue on https://yt-dl.org/bug . Make sure you are using the latest version; see  https://yt-dl.org/update  on how to update. Be sure to call youtube-dl with the --verbose flag and include its complete output.\n",
            "ERROR: This video is unavailable.\n",
            "Sorry about that.\n"
          ],
          "name": "stderr"
        },
        {
          "output_type": "stream",
          "text": [
            "[youtube] B7_VwoZKPRM: Downloading webpage\n",
            "[youtube] B7_VwoZKPRM: Downloading video info webpage\n"
          ],
          "name": "stdout"
        },
        {
          "output_type": "stream",
          "text": [
            "WARNING: Unable to extract video title\n",
            "WARNING: unable to extract description; please report this issue on https://yt-dl.org/bug . Make sure you are using the latest version; see  https://yt-dl.org/update  on how to update. Be sure to call youtube-dl with the --verbose flag and include its complete output.\n",
            "ERROR: This video is unavailable.\n",
            "Sorry about that.\n"
          ],
          "name": "stderr"
        },
        {
          "output_type": "stream",
          "text": [
            "[youtube] -p7Asu0zaR4: Downloading webpage\n",
            "[youtube] -p7Asu0zaR4: Downloading video info webpage\n",
            "[download] Destination: Hatchet 2 Trailer--p7Asu0zaR4.webm\n",
            "[download] 100% of 1.64MiB in 00:00\n",
            "[ffmpeg] Destination: Hatchet 2 Trailer--p7Asu0zaR4.wav\n",
            "Deleting original file Hatchet 2 Trailer--p7Asu0zaR4.webm (pass -k to keep)\n",
            "[youtube] WDceZkpWPS8: Downloading webpage\n",
            "[youtube] WDceZkpWPS8: Downloading video info webpage\n",
            "[download] Destination: BAL - HONIG (Goldener Bär 2010, Trailer)-WDceZkpWPS8.webm\n",
            "[download] 100% of 1.62MiB in 00:00\n",
            "[ffmpeg] Destination: BAL - HONIG (Goldener Bär 2010, Trailer)-WDceZkpWPS8.wav\n",
            "Deleting original file BAL - HONIG (Goldener Bär 2010, Trailer)-WDceZkpWPS8.webm (pass -k to keep)\n",
            "[youtube] Y41fFj-P4jI: Downloading webpage\n",
            "[youtube] Y41fFj-P4jI: Downloading video info webpage\n",
            "[download] Destination: Trailer for '13' in English-Y41fFj-P4jI.webm\n",
            "[download] 100% of 1.96MiB in 00:00\n",
            "[ffmpeg] Destination: Trailer for '13' in English-Y41fFj-P4jI.wav\n",
            "Deleting original file Trailer for '13' in English-Y41fFj-P4jI.webm (pass -k to keep)\n",
            "[youtube] 9RQlikX4vvw: Downloading webpage\n",
            "[youtube] 9RQlikX4vvw: Downloading video info webpage\n",
            "[download] Destination: Rare Exports Finnish Trailer (english)-9RQlikX4vvw.webm\n",
            "[download] 100% of 1.80MiB in 00:00\n",
            "[ffmpeg] Destination: Rare Exports Finnish Trailer (english)-9RQlikX4vvw.wav\n",
            "Deleting original file Rare Exports Finnish Trailer (english)-9RQlikX4vvw.webm (pass -k to keep)\n",
            "[youtube] R5J90AjJc0g: Downloading webpage\n",
            "[youtube] R5J90AjJc0g: Downloading video info webpage\n",
            "[download] Destination: Chatroom Чат - Trailer 2010-R5J90AjJc0g.webm\n",
            "[download] 100% of 2.35MiB in 00:00\n",
            "[ffmpeg] Destination: Chatroom Чат - Trailer 2010-R5J90AjJc0g.wav\n",
            "Deleting original file Chatroom Чат - Trailer 2010-R5J90AjJc0g.webm (pass -k to keep)\n",
            "[youtube] GrqpKEOF8uw: Downloading webpage\n",
            "[youtube] GrqpKEOF8uw: Downloading video info webpage\n"
          ],
          "name": "stdout"
        },
        {
          "output_type": "stream",
          "text": [
            "WARNING: Unable to extract video title\n",
            "WARNING: unable to extract description; please report this issue on https://yt-dl.org/bug . Make sure you are using the latest version; see  https://yt-dl.org/update  on how to update. Be sure to call youtube-dl with the --verbose flag and include its complete output.\n",
            "ERROR: This video is unavailable.\n",
            "Sorry about that.\n"
          ],
          "name": "stderr"
        },
        {
          "output_type": "stream",
          "text": [
            "[youtube] PF_jWPJwKIE: Downloading webpage\n",
            "[youtube] PF_jWPJwKIE: Downloading video info webpage\n"
          ],
          "name": "stdout"
        },
        {
          "output_type": "stream",
          "text": [
            "WARNING: Unable to extract video title\n",
            "WARNING: unable to extract description; please report this issue on https://yt-dl.org/bug . Make sure you are using the latest version; see  https://yt-dl.org/update  on how to update. Be sure to call youtube-dl with the --verbose flag and include its complete output.\n",
            "ERROR: This video is unavailable.\n",
            "Sorry about that.\n"
          ],
          "name": "stderr"
        },
        {
          "output_type": "stream",
          "text": [
            "[youtube] hrJQDPpIK6I: Downloading webpage\n",
            "[youtube] hrJQDPpIK6I: Downloading video info webpage\n",
            "[download] Destination: The Chronicles of Narnia - The Voyage of the Dawn Treader Official Trailer [HD]-hrJQDPpIK6I.webm\n",
            "[download] 100% of 1.85MiB in 00:00\n",
            "[ffmpeg] Destination: The Chronicles of Narnia - The Voyage of the Dawn Treader Official Trailer [HD]-hrJQDPpIK6I.wav\n",
            "Deleting original file The Chronicles of Narnia - The Voyage of the Dawn Treader Official Trailer [HD]-hrJQDPpIK6I.webm (pass -k to keep)\n",
            "[youtube] h6w7Dh-QxzY: Downloading webpage\n",
            "[youtube] h6w7Dh-QxzY: Downloading video info webpage\n",
            "[download] Destination: Love and Other Drugs _ Trailer HD _ 20th Century FOX-h6w7Dh-QxzY.webm\n",
            "[download] 100% of 2.22MiB in 00:00\n",
            "[ffmpeg] Destination: Love and Other Drugs _ Trailer HD _ 20th Century FOX-h6w7Dh-QxzY.wav\n",
            "Deleting original file Love and Other Drugs _ Trailer HD _ 20th Century FOX-h6w7Dh-QxzY.webm (pass -k to keep)\n",
            "[youtube] Neo6W1f7hyY: Downloading webpage\n",
            "[youtube] Neo6W1f7hyY: Downloading video info webpage\n",
            "[download] Destination: New Beastly Movie Trailer - Official-Neo6W1f7hyY.webm\n",
            "[download] 100% of 2.12MiB in 00:00\n",
            "[ffmpeg] Destination: New Beastly Movie Trailer - Official-Neo6W1f7hyY.wav\n",
            "Deleting original file New Beastly Movie Trailer - Official-Neo6W1f7hyY.webm (pass -k to keep)\n",
            "[youtube] dIZ2OwW7HJU: Downloading webpage\n",
            "[youtube] dIZ2OwW7HJU: Downloading video info webpage\n",
            "[download] Destination: Karthik Calling Karthik- Theatrical Trailer Exclusive!!!-dIZ2OwW7HJU.m4a\n",
            "[download] 100% of 2.25MiB in 00:00\n",
            "[ffmpeg] Correcting container in \"Karthik Calling Karthik- Theatrical Trailer Exclusive!!!-dIZ2OwW7HJU.m4a\"\n",
            "[ffmpeg] Destination: Karthik Calling Karthik- Theatrical Trailer Exclusive!!!-dIZ2OwW7HJU.wav\n",
            "Deleting original file Karthik Calling Karthik- Theatrical Trailer Exclusive!!!-dIZ2OwW7HJU.m4a (pass -k to keep)\n",
            "[youtube] qdOGJi5Sne4: Downloading webpage\n",
            "[youtube] qdOGJi5Sne4: Downloading video info webpage\n"
          ],
          "name": "stdout"
        },
        {
          "output_type": "stream",
          "text": [
            "WARNING: Unable to extract video title\n",
            "WARNING: unable to extract description; please report this issue on https://yt-dl.org/bug . Make sure you are using the latest version; see  https://yt-dl.org/update  on how to update. Be sure to call youtube-dl with the --verbose flag and include its complete output.\n",
            "ERROR: This video is unavailable.\n",
            "Sorry about that.\n"
          ],
          "name": "stderr"
        },
        {
          "output_type": "stream",
          "text": [
            "[youtube] Hsm9jQcq0Ms: Downloading webpage\n",
            "[youtube] Hsm9jQcq0Ms: Downloading video info webpage\n",
            "[download] Destination: London Boulevard - Official Trailer [HD] (2010)-Hsm9jQcq0Ms.m4a\n",
            "[download] 100% of 1.89MiB in 00:00\n",
            "[ffmpeg] Correcting container in \"London Boulevard - Official Trailer [HD] (2010)-Hsm9jQcq0Ms.m4a\"\n",
            "[ffmpeg] Destination: London Boulevard - Official Trailer [HD] (2010)-Hsm9jQcq0Ms.wav\n",
            "Deleting original file London Boulevard - Official Trailer [HD] (2010)-Hsm9jQcq0Ms.m4a (pass -k to keep)\n",
            "[youtube] KE_yskjXBOA: Downloading webpage\n",
            "[youtube] KE_yskjXBOA: Downloading video info webpage\n"
          ],
          "name": "stdout"
        },
        {
          "output_type": "stream",
          "text": [
            "ERROR: This video contains content from Studio71_1_1, who has blocked it on copyright grounds.\n",
            "Sorry about that.\n"
          ],
          "name": "stderr"
        },
        {
          "output_type": "stream",
          "text": [
            "[youtube] PYdxfnoP3YY: Downloading webpage\n",
            "[youtube] PYdxfnoP3YY: Downloading video info webpage\n"
          ],
          "name": "stdout"
        },
        {
          "output_type": "stream",
          "text": [
            "WARNING: Unable to extract video title\n",
            "WARNING: unable to extract description; please report this issue on https://yt-dl.org/bug . Make sure you are using the latest version; see  https://yt-dl.org/update  on how to update. Be sure to call youtube-dl with the --verbose flag and include its complete output.\n",
            "ERROR: This video is no longer available because the YouTube account associated with this video has been terminated.\n",
            "Sorry about that.\n"
          ],
          "name": "stderr"
        },
        {
          "output_type": "stream",
          "text": [
            "[youtube] 5yNDM9H0z8o: Downloading webpage\n",
            "[youtube] 5yNDM9H0z8o: Downloading video info webpage\n",
            "[download] Destination: Bagman a_k_a Casino Jack Theatrical Trailer [HD]-5yNDM9H0z8o.m4a\n",
            "[download] 100% of 1.92MiB in 00:00\n",
            "[ffmpeg] Correcting container in \"Bagman a_k_a Casino Jack Theatrical Trailer [HD]-5yNDM9H0z8o.m4a\"\n",
            "[ffmpeg] Destination: Bagman a_k_a Casino Jack Theatrical Trailer [HD]-5yNDM9H0z8o.wav\n",
            "Deleting original file Bagman a_k_a Casino Jack Theatrical Trailer [HD]-5yNDM9H0z8o.m4a (pass -k to keep)\n",
            "[youtube] Cb5BFm4qIow: Downloading webpage\n",
            "[youtube] Cb5BFm4qIow: Downloading video info webpage\n",
            "[download] Destination: The Loved Ones - The Official Trailer HD-Cb5BFm4qIow.m4a\n",
            "[download] 100% of 1.83MiB in 00:00\n",
            "[ffmpeg] Correcting container in \"The Loved Ones - The Official Trailer HD-Cb5BFm4qIow.m4a\"\n",
            "[ffmpeg] Destination: The Loved Ones - The Official Trailer HD-Cb5BFm4qIow.wav\n",
            "Deleting original file The Loved Ones - The Official Trailer HD-Cb5BFm4qIow.m4a (pass -k to keep)\n",
            "[youtube] 0UD2gbjB3vw: Downloading webpage\n",
            "[youtube] 0UD2gbjB3vw: Downloading video info webpage\n",
            "[download] Destination: The Reef (2010) - Official Trailer-0UD2gbjB3vw.webm\n",
            "[download] 100% of 1.97MiB in 00:00\n",
            "[ffmpeg] Destination: The Reef (2010) - Official Trailer-0UD2gbjB3vw.wav\n",
            "Deleting original file The Reef (2010) - Official Trailer-0UD2gbjB3vw.webm (pass -k to keep)\n",
            "[youtube] aRZF1Xpj1po: Downloading webpage\n",
            "[youtube] aRZF1Xpj1po: Downloading video info webpage\n",
            "[download] Destination: Crazy On the Outside (Trailer HD 2010)-aRZF1Xpj1po.m4a\n",
            "[download] 100% of 2.07MiB in 00:00\n",
            "[ffmpeg] Correcting container in \"Crazy On the Outside (Trailer HD 2010)-aRZF1Xpj1po.m4a\"\n",
            "[ffmpeg] Destination: Crazy On the Outside (Trailer HD 2010)-aRZF1Xpj1po.wav\n",
            "Deleting original file Crazy On the Outside (Trailer HD 2010)-aRZF1Xpj1po.m4a (pass -k to keep)\n",
            "[youtube] M7N6Hhil_D8: Downloading webpage\n",
            "[youtube] M7N6Hhil_D8: Downloading video info webpage\n",
            "[download] Destination: The Romantics- Trailer-M7N6Hhil_D8.webm\n",
            "[download] 100% of 2.11MiB in 00:00\n",
            "[ffmpeg] Destination: The Romantics- Trailer-M7N6Hhil_D8.wav\n",
            "Deleting original file The Romantics- Trailer-M7N6Hhil_D8.webm (pass -k to keep)\n",
            "[youtube] LRIZ4mCi5Ps: Downloading webpage\n",
            "[youtube] LRIZ4mCi5Ps: Downloading video info webpage\n",
            "[download] Destination: The Fighter Movie Trailer (HD)-LRIZ4mCi5Ps.webm\n",
            "[download] 100% of 2.25MiB in 00:00\n",
            "[ffmpeg] Destination: The Fighter Movie Trailer (HD)-LRIZ4mCi5Ps.wav\n",
            "Deleting original file The Fighter Movie Trailer (HD)-LRIZ4mCi5Ps.webm (pass -k to keep)\n",
            "[youtube] gsYKF8ecC8g: Downloading webpage\n",
            "[youtube] gsYKF8ecC8g: Downloading video info webpage\n",
            "[download] Destination: Tangled - Official Trailer 2-gsYKF8ecC8g.webm\n",
            "[download] 100% of 2.25MiB in 00:00\n",
            "[ffmpeg] Destination: Tangled - Official Trailer 2-gsYKF8ecC8g.wav\n",
            "Deleting original file Tangled - Official Trailer 2-gsYKF8ecC8g.webm (pass -k to keep)\n",
            "[youtube] P0ppBlL2lC4: Downloading webpage\n",
            "[youtube] P0ppBlL2lC4: Downloading video info webpage\n",
            "[download] Destination: The Kings Speech [OFFICIAL TRAILER HD]-P0ppBlL2lC4.webm\n",
            "[download] 100% of 2.19MiB in 00:00\n",
            "[ffmpeg] Destination: The Kings Speech [OFFICIAL TRAILER HD]-P0ppBlL2lC4.wav\n",
            "Deleting original file The Kings Speech [OFFICIAL TRAILER HD]-P0ppBlL2lC4.webm (pass -k to keep)\n",
            "[youtube] YbfMgvgR9NI: Downloading webpage\n",
            "[youtube] YbfMgvgR9NI: Downloading video info webpage\n",
            "[download] Destination: Harry Potter and the Deathly Hallows - Part I - Trailer #1-YbfMgvgR9NI.webm\n",
            "[download] 100% of 2.20MiB in 00:00\n",
            "[ffmpeg] Destination: Harry Potter and the Deathly Hallows - Part I - Trailer #1-YbfMgvgR9NI.wav\n",
            "Deleting original file Harry Potter and the Deathly Hallows - Part I - Trailer #1-YbfMgvgR9NI.webm (pass -k to keep)\n",
            "[youtube] m_OrqZQV8p8: Downloading webpage\n",
            "[youtube] m_OrqZQV8p8: Downloading video info webpage\n",
            "[download] Destination: 'Biutiful' - The Trailer-m_OrqZQV8p8.webm\n",
            "[download] 100% of 1.87MiB in 00:00\n",
            "[ffmpeg] Destination: 'Biutiful' - The Trailer-m_OrqZQV8p8.wav\n",
            "Deleting original file 'Biutiful' - The Trailer-m_OrqZQV8p8.webm (pass -k to keep)\n",
            "[youtube] H3QkM7uyF10: Downloading webpage\n",
            "[youtube] H3QkM7uyF10: Downloading video info webpage\n"
          ],
          "name": "stdout"
        },
        {
          "output_type": "stream",
          "text": [
            "WARNING: Unable to extract video title\n",
            "WARNING: unable to extract description; please report this issue on https://yt-dl.org/bug . Make sure you are using the latest version; see  https://yt-dl.org/update  on how to update. Be sure to call youtube-dl with the --verbose flag and include its complete output.\n",
            "ERROR: This video is unavailable.\n",
            "Sorry about that.\n"
          ],
          "name": "stderr"
        },
        {
          "output_type": "stream",
          "text": [
            "[youtube] PmS3ePcA6VU: Downloading webpage\n",
            "[youtube] PmS3ePcA6VU: Downloading video info webpage\n",
            "[download] Destination: Wild Target - Official UK Trailer - In UK Cinemas June 18th-PmS3ePcA6VU.webm\n",
            "[download] 100% of 1.98MiB in 00:00\n",
            "[ffmpeg] Destination: Wild Target - Official UK Trailer - In UK Cinemas June 18th-PmS3ePcA6VU.wav\n",
            "Deleting original file Wild Target - Official UK Trailer - In UK Cinemas June 18th-PmS3ePcA6VU.webm (pass -k to keep)\n",
            "[youtube] C9n9hP_LtL8: Downloading webpage\n",
            "[youtube] C9n9hP_LtL8: Downloading video info webpage\n",
            "[download] Destination: Somewhere Trailer HD - Sofia Coppola-C9n9hP_LtL8.webm\n",
            "[download] 100% of 1.76MiB in 00:00\n",
            "[ffmpeg] Destination: Somewhere Trailer HD - Sofia Coppola-C9n9hP_LtL8.wav\n",
            "Deleting original file Somewhere Trailer HD - Sofia Coppola-C9n9hP_LtL8.webm (pass -k to keep)\n",
            "[youtube] lti0vfCPZns: Downloading webpage\n",
            "[youtube] lti0vfCPZns: Downloading video info webpage\n"
          ],
          "name": "stdout"
        },
        {
          "output_type": "stream",
          "text": [
            "WARNING: Unable to extract video title\n",
            "WARNING: unable to extract description; please report this issue on https://yt-dl.org/bug . Make sure you are using the latest version; see  https://yt-dl.org/update  on how to update. Be sure to call youtube-dl with the --verbose flag and include its complete output.\n",
            "ERROR: This video is unavailable.\n",
            "Sorry about that.\n"
          ],
          "name": "stderr"
        },
        {
          "output_type": "stream",
          "text": [
            "[youtube] mg5e_rjtHw0: Downloading webpage\n",
            "[youtube] mg5e_rjtHw0: Downloading video info webpage\n",
            "[download] Destination: Certified Copy Official Trailer #1 - (2010) HD-mg5e_rjtHw0.webm\n",
            "[download] 100% of 2.39MiB in 00:00\n",
            "[ffmpeg] Destination: Certified Copy Official Trailer #1 - (2010) HD-mg5e_rjtHw0.wav\n",
            "Deleting original file Certified Copy Official Trailer #1 - (2010) HD-mg5e_rjtHw0.webm (pass -k to keep)\n",
            "[youtube] s9lWUqraDoU: Downloading webpage\n",
            "[youtube] s9lWUqraDoU: Downloading video info webpage\n",
            "[download] Destination: 'Morning Glory' Trailer HD-s9lWUqraDoU.webm\n",
            "[download] 100% of 2.04MiB in 00:00\n",
            "[ffmpeg] Destination: 'Morning Glory' Trailer HD-s9lWUqraDoU.wav\n",
            "Deleting original file 'Morning Glory' Trailer HD-s9lWUqraDoU.webm (pass -k to keep)\n",
            "[youtube] JM-0Ywc7wNY: Downloading webpage\n",
            "[youtube] JM-0Ywc7wNY: Downloading video info webpage\n"
          ],
          "name": "stdout"
        },
        {
          "output_type": "stream",
          "text": [
            "WARNING: Unable to extract video title\n",
            "WARNING: unable to extract description; please report this issue on https://yt-dl.org/bug . Make sure you are using the latest version; see  https://yt-dl.org/update  on how to update. Be sure to call youtube-dl with the --verbose flag and include its complete output.\n",
            "ERROR: This video is unavailable.\n",
            "Sorry about that.\n"
          ],
          "name": "stderr"
        },
        {
          "output_type": "stream",
          "text": [
            "[youtube] Jk-EoUb0nvg: Downloading webpage\n",
            "[youtube] Jk-EoUb0nvg: Downloading video info webpage\n",
            "[download] Destination: 'Uncle Boonmee Who Can Recall His Past Lives' (Official Trailer)-Jk-EoUb0nvg.webm\n",
            "[download] 100% of 2.30MiB in 00:00\n",
            "[ffmpeg] Destination: 'Uncle Boonmee Who Can Recall His Past Lives' (Official Trailer)-Jk-EoUb0nvg.wav\n",
            "Deleting original file 'Uncle Boonmee Who Can Recall His Past Lives' (Official Trailer)-Jk-EoUb0nvg.webm (pass -k to keep)\n",
            "[youtube] pU3bUJroGNg: Downloading webpage\n",
            "[youtube] pU3bUJroGNg: Downloading video info webpage\n",
            "[download] Destination: The Pillars of the Earth - Trailer-pU3bUJroGNg.webm\n",
            "[download] 100% of 1.53MiB in 00:00\n",
            "[ffmpeg] Destination: The Pillars of the Earth - Trailer-pU3bUJroGNg.wav\n",
            "Deleting original file The Pillars of the Earth - Trailer-pU3bUJroGNg.webm (pass -k to keep)\n",
            "[youtube] FkMuaN2yih8: Downloading webpage\n",
            "[youtube] FkMuaN2yih8: Downloading video info webpage\n",
            "[download] Destination: How I Ended This Summer _ trailer (2010) London Film Festival-FkMuaN2yih8.m4a\n",
            "[download] 100% of 1.90MiB in 00:00\n",
            "[ffmpeg] Correcting container in \"How I Ended This Summer _ trailer (2010) London Film Festival-FkMuaN2yih8.m4a\"\n",
            "[ffmpeg] Destination: How I Ended This Summer _ trailer (2010) London Film Festival-FkMuaN2yih8.wav\n",
            "Deleting original file How I Ended This Summer _ trailer (2010) London Film Festival-FkMuaN2yih8.m4a (pass -k to keep)\n",
            "[youtube] MpMGQgXbOgA: Downloading webpage\n",
            "[youtube] MpMGQgXbOgA: Downloading video info webpage\n",
            "[download] Destination: 'Fair Game' Trailer HD-MpMGQgXbOgA.webm\n",
            "[download] 100% of 1.87MiB in 00:00\n",
            "[ffmpeg] Destination: 'Fair Game' Trailer HD-MpMGQgXbOgA.wav\n",
            "Deleting original file 'Fair Game' Trailer HD-MpMGQgXbOgA.webm (pass -k to keep)\n",
            "[youtube] VEPjHlQlItY: Downloading webpage\n",
            "[youtube] VEPjHlQlItY: Downloading video info webpage\n"
          ],
          "name": "stdout"
        },
        {
          "output_type": "stream",
          "text": [
            "WARNING: Unable to extract video title\n",
            "WARNING: unable to extract description; please report this issue on https://yt-dl.org/bug . Make sure you are using the latest version; see  https://yt-dl.org/update  on how to update. Be sure to call youtube-dl with the --verbose flag and include its complete output.\n",
            "ERROR: This video is unavailable.\n",
            "Sorry about that.\n"
          ],
          "name": "stderr"
        },
        {
          "output_type": "stream",
          "text": [
            "[youtube] ZAg-6UCKrs4: Downloading webpage\n",
            "[youtube] ZAg-6UCKrs4: Downloading video info webpage\n",
            "[download] Destination: Sammy's Adventures - The Secret Passage Official Trailer-ZAg-6UCKrs4.webm\n",
            "[download] 100% of 1.09MiB in 00:00\n",
            "[ffmpeg] Destination: Sammy's Adventures - The Secret Passage Official Trailer-ZAg-6UCKrs4.wav\n",
            "Deleting original file Sammy's Adventures - The Secret Passage Official Trailer-ZAg-6UCKrs4.webm (pass -k to keep)\n",
            "[youtube] 5jaI1XOB-bs: Downloading webpage\n",
            "[youtube] 5jaI1XOB-bs: Downloading video info webpage\n",
            "[download] Destination: BLACK SWAN _ Official Trailer _ FOX Searchlight-5jaI1XOB-bs.webm\n",
            "[download] 100% of 1.87MiB in 00:00\n",
            "[ffmpeg] Destination: BLACK SWAN _ Official Trailer _ FOX Searchlight-5jaI1XOB-bs.wav\n",
            "Deleting original file BLACK SWAN _ Official Trailer _ FOX Searchlight-5jaI1XOB-bs.webm (pass -k to keep)\n",
            "[youtube] 6CJUQr4Vs40: Downloading webpage\n",
            "[youtube] 6CJUQr4Vs40: Downloading video info webpage\n",
            "[download] Destination: Megamind _ FULL Trailer US (2010)-6CJUQr4Vs40.webm\n",
            "[download] 100% of 2.19MiB in 00:00\n",
            "[ffmpeg] Destination: Megamind _ FULL Trailer US (2010)-6CJUQr4Vs40.wav\n",
            "Deleting original file Megamind _ FULL Trailer US (2010)-6CJUQr4Vs40.webm (pass -k to keep)\n",
            "[youtube] OlhLOWTnVoQ: Downloading webpage\n",
            "[youtube] OlhLOWTnVoQ: Downloading video info webpage\n",
            "[download] Destination: 127 HOURS - Full Length Official Trailer HD-OlhLOWTnVoQ.webm\n",
            "[download] 100% of 2.37MiB in 00:00\n",
            "[ffmpeg] Destination: 127 HOURS - Full Length Official Trailer HD-OlhLOWTnVoQ.wav\n",
            "Deleting original file 127 HOURS - Full Length Official Trailer HD-OlhLOWTnVoQ.webm (pass -k to keep)\n",
            "[youtube] ABeKWdKCbu8: Downloading webpage\n",
            "[youtube] ABeKWdKCbu8: Downloading video info webpage\n",
            "[download] Destination: Due Date _ trailer #1 US (2010)-ABeKWdKCbu8.webm\n",
            "[download] 100% of 1.77MiB in 00:01\n",
            "[ffmpeg] Destination: Due Date _ trailer #1 US (2010)-ABeKWdKCbu8.wav\n",
            "Deleting original file Due Date _ trailer #1 US (2010)-ABeKWdKCbu8.webm (pass -k to keep)\n",
            "[youtube] xC7yCELivB8: Downloading webpage\n",
            "[youtube] xC7yCELivB8: Downloading video info webpage\n",
            "[download] Destination: Saw 3D  - The Final Chapter (2010) - Official Trailer HD-xC7yCELivB8.m4a\n",
            "[download] 100% of 1.28MiB in 00:00\n",
            "[ffmpeg] Correcting container in \"Saw 3D  - The Final Chapter (2010) - Official Trailer HD-xC7yCELivB8.m4a\"\n",
            "[ffmpeg] Destination: Saw 3D  - The Final Chapter (2010) - Official Trailer HD-xC7yCELivB8.wav\n",
            "Deleting original file Saw 3D  - The Final Chapter (2010) - Official Trailer HD-xC7yCELivB8.m4a (pass -k to keep)\n",
            "[youtube] v-9H1A66SxI: Downloading webpage\n",
            "[youtube] v-9H1A66SxI: Downloading video info webpage\n",
            "[download] Destination: Scott Adkins - Undisputed 3  - Redemption [2010] - Trailer-v-9H1A66SxI.webm\n",
            "[download] 100% of 1.58MiB in 00:00\n",
            "[ffmpeg] Destination: Scott Adkins - Undisputed 3  - Redemption [2010] - Trailer-v-9H1A66SxI.wav\n",
            "Deleting original file Scott Adkins - Undisputed 3  - Redemption [2010] - Trailer-v-9H1A66SxI.webm (pass -k to keep)\n",
            "[youtube] iEualA0ujdo: Downloading webpage\n",
            "[youtube] iEualA0ujdo: Downloading video info webpage\n",
            "[download] Destination: Black Death - Official Trailer - In UK Cinemas June 11th-iEualA0ujdo.webm\n",
            "[download] 100% of 1.14MiB in 00:00\n",
            "[ffmpeg] Destination: Black Death - Official Trailer - In UK Cinemas June 11th-iEualA0ujdo.wav\n",
            "Deleting original file Black Death - Official Trailer - In UK Cinemas June 11th-iEualA0ujdo.webm (pass -k to keep)\n",
            "[youtube] xDnHfQtH0zU: Downloading webpage\n",
            "[youtube] xDnHfQtH0zU: Downloading video info webpage\n"
          ],
          "name": "stdout"
        },
        {
          "output_type": "stream",
          "text": [
            "WARNING: Unable to extract video title\n",
            "WARNING: unable to extract description; please report this issue on https://yt-dl.org/bug . Make sure you are using the latest version; see  https://yt-dl.org/update  on how to update. Be sure to call youtube-dl with the --verbose flag and include its complete output.\n",
            "ERROR: This video is unavailable.\n",
            "Sorry about that.\n"
          ],
          "name": "stderr"
        },
        {
          "output_type": "stream",
          "text": [
            "[youtube] SG9g0nopfus: Downloading webpage\n",
            "[youtube] SG9g0nopfus: Downloading video info webpage\n",
            "[download] Destination: Tenderness - Trailer-SG9g0nopfus.m4a\n",
            "[download] 100% of 1.77MiB in 00:00\n",
            "[ffmpeg] Correcting container in \"Tenderness - Trailer-SG9g0nopfus.m4a\"\n",
            "[ffmpeg] Destination: Tenderness - Trailer-SG9g0nopfus.wav\n",
            "Deleting original file Tenderness - Trailer-SG9g0nopfus.m4a (pass -k to keep)\n",
            "[youtube] lNiRcgp75l0: Downloading webpage\n",
            "[youtube] lNiRcgp75l0: Downloading video info webpage\n",
            "[download] Destination: The Countess (2009) - Official Trailer-lNiRcgp75l0.m4a\n",
            "[download] 100% of 2.11MiB in 00:00\n",
            "[ffmpeg] Correcting container in \"The Countess (2009) - Official Trailer-lNiRcgp75l0.m4a\"\n",
            "[ffmpeg] Destination: The Countess (2009) - Official Trailer-lNiRcgp75l0.wav\n",
            "Deleting original file The Countess (2009) - Official Trailer-lNiRcgp75l0.m4a (pass -k to keep)\n",
            "[youtube] znpU_Aup-Bg: Downloading webpage\n",
            "[youtube] znpU_Aup-Bg: Downloading video info webpage\n"
          ],
          "name": "stdout"
        },
        {
          "output_type": "stream",
          "text": [
            "WARNING: Unable to extract video title\n",
            "WARNING: unable to extract description; please report this issue on https://yt-dl.org/bug . Make sure you are using the latest version; see  https://yt-dl.org/update  on how to update. Be sure to call youtube-dl with the --verbose flag and include its complete output.\n",
            "ERROR: This video is unavailable.\n",
            "Sorry about that.\n"
          ],
          "name": "stderr"
        },
        {
          "output_type": "stream",
          "text": [
            "[youtube] 07XbSk7Rjt4: Downloading webpage\n",
            "[youtube] 07XbSk7Rjt4: Downloading video info webpage\n",
            "[download] Destination: 'Paranormal Activity 2' Trailer-07XbSk7Rjt4.webm\n",
            "[download] 100% of 1003.78KiB in 00:00\n",
            "[ffmpeg] Destination: 'Paranormal Activity 2' Trailer-07XbSk7Rjt4.wav\n",
            "Deleting original file 'Paranormal Activity 2' Trailer-07XbSk7Rjt4.webm (pass -k to keep)\n",
            "[youtube] Vk6QCj-RCw8: Downloading webpage\n",
            "[youtube] Vk6QCj-RCw8: Downloading video info webpage\n"
          ],
          "name": "stdout"
        },
        {
          "output_type": "stream",
          "text": [
            "WARNING: Unable to extract video title\n",
            "WARNING: unable to extract description; please report this issue on https://yt-dl.org/bug . Make sure you are using the latest version; see  https://yt-dl.org/update  on how to update. Be sure to call youtube-dl with the --verbose flag and include its complete output.\n",
            "ERROR: The YouTube account associated with this video has been terminated due to multiple third-party notifications of copyright infringement.\n",
            "Sorry about that.\n"
          ],
          "name": "stderr"
        },
        {
          "output_type": "stream",
          "text": [
            "[youtube] 6tsnPmmVYx4: Downloading webpage\n",
            "[youtube] 6tsnPmmVYx4: Downloading video info webpage\n",
            "[download] Destination: Des hommes et des dieux _ clip #1 Cannes 2010 IN COMPETITION Xavier Beauvois-6tsnPmmVYx4.m4a\n",
            "[download] 100% of 1.51MiB in 00:00\n",
            "[ffmpeg] Correcting container in \"Des hommes et des dieux _ clip #1 Cannes 2010 IN COMPETITION Xavier Beauvois-6tsnPmmVYx4.m4a\"\n",
            "[ffmpeg] Destination: Des hommes et des dieux _ clip #1 Cannes 2010 IN COMPETITION Xavier Beauvois-6tsnPmmVYx4.wav\n",
            "Deleting original file Des hommes et des dieux _ clip #1 Cannes 2010 IN COMPETITION Xavier Beauvois-6tsnPmmVYx4.m4a (pass -k to keep)\n",
            "[youtube] t3PuZo8qLxo: Downloading webpage\n",
            "[youtube] t3PuZo8qLxo: Downloading video info webpage\n"
          ],
          "name": "stdout"
        },
        {
          "output_type": "stream",
          "text": [
            "WARNING: Unable to extract video title\n",
            "WARNING: unable to extract description; please report this issue on https://yt-dl.org/bug . Make sure you are using the latest version; see  https://yt-dl.org/update  on how to update. Be sure to call youtube-dl with the --verbose flag and include its complete output.\n",
            "ERROR: This video is unavailable.\n",
            "Sorry about that.\n"
          ],
          "name": "stderr"
        },
        {
          "output_type": "stream",
          "text": [
            "[youtube] zqizkKDpxRE: Downloading webpage\n",
            "[youtube] zqizkKDpxRE: Downloading video info webpage\n",
            "[download] Destination: Whisper (2007) Official Trailer - Josh Holloway, Jennifer Shirley Movie HD-zqizkKDpxRE.webm\n",
            "[download] 100% of 1.55MiB in 00:00\n",
            "[ffmpeg] Destination: Whisper (2007) Official Trailer - Josh Holloway, Jennifer Shirley Movie HD-zqizkKDpxRE.wav\n",
            "Deleting original file Whisper (2007) Official Trailer - Josh Holloway, Jennifer Shirley Movie HD-zqizkKDpxRE.webm (pass -k to keep)\n",
            "[youtube] p_zQfVepveQ: Downloading webpage\n",
            "[youtube] p_zQfVepveQ: Downloading video info webpage\n",
            "[download] Destination: Borderland (2007) Trailer Ingles-p_zQfVepveQ.webm\n",
            "[download] 100% of 2.00MiB in 00:00\n",
            "[ffmpeg] Destination: Borderland (2007) Trailer Ingles-p_zQfVepveQ.wav\n",
            "Deleting original file Borderland (2007) Trailer Ingles-p_zQfVepveQ.webm (pass -k to keep)\n",
            "[youtube] rwBaS6m3q5c: Downloading webpage\n",
            "[youtube] rwBaS6m3q5c: Downloading video info webpage\n",
            "[download] Destination: EYES WIDE OPEN TRAILER (High Quality, New English Subs)-rwBaS6m3q5c.webm\n",
            "[download] 100% of 1.54MiB in 00:00\n",
            "[ffmpeg] Destination: EYES WIDE OPEN TRAILER (High Quality, New English Subs)-rwBaS6m3q5c.wav\n",
            "Deleting original file EYES WIDE OPEN TRAILER (High Quality, New English Subs)-rwBaS6m3q5c.webm (pass -k to keep)\n",
            "[youtube] dxA8DWqsHbw: Downloading webpage\n",
            "[youtube] dxA8DWqsHbw: Downloading video info webpage\n",
            "[download] Destination: My Soul To Take - Official Trailer [HD]-dxA8DWqsHbw.webm\n",
            "[download] 100% of 2.30MiB in 00:00\n",
            "[ffmpeg] Destination: My Soul To Take - Official Trailer [HD]-dxA8DWqsHbw.wav\n",
            "Deleting original file My Soul To Take - Official Trailer [HD]-dxA8DWqsHbw.webm (pass -k to keep)\n",
            "[youtube] MPuqCFOgeFc: Downloading webpage\n",
            "[youtube] MPuqCFOgeFc: Downloading video info webpage\n",
            "[download] Destination: In a Better World _ Official Movie Trailer _ 2010 HD-MPuqCFOgeFc.webm\n",
            "[download] 100% of 1.80MiB in 00:03\n",
            "[ffmpeg] Destination: In a Better World _ Official Movie Trailer _ 2010 HD-MPuqCFOgeFc.wav\n",
            "Deleting original file In a Better World _ Official Movie Trailer _ 2010 HD-MPuqCFOgeFc.webm (pass -k to keep)\n",
            "[youtube] -JZ_moituIo: Downloading webpage\n"
          ],
          "name": "stdout"
        },
        {
          "output_type": "stream",
          "text": [
            "ERROR: Unable to download webpage: HTTP Error 429: Too Many Requests (caused by <HTTPError 429: 'Too Many Requests'>); please report this issue on https://yt-dl.org/bug . Make sure you are using the latest version; see  https://yt-dl.org/update  on how to update. Be sure to call youtube-dl with the --verbose flag and include its complete output.\n"
          ],
          "name": "stderr"
        }
      ]
    },
    {
      "cell_type": "code",
      "metadata": {
        "id": "MM-UeME2kVZK",
        "colab_type": "code",
        "colab": {}
      },
      "source": [
        ""
      ],
      "execution_count": 0,
      "outputs": []
    }
  ]
}