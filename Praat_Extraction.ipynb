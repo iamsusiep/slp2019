{
  "nbformat": 4,
  "nbformat_minor": 0,
  "metadata": {
    "colab": {
      "name": "Praat Extraction.ipynb",
      "provenance": [],
      "collapsed_sections": [],
      "include_colab_link": true
    },
    "kernelspec": {
      "name": "python3",
      "display_name": "Python 3"
    },
    "language_info": {
      "codemirror_mode": {
        "name": "ipython",
        "version": 3
      },
      "file_extension": ".py",
      "mimetype": "text/x-python",
      "name": "python",
      "nbconvert_exporter": "python",
      "pygments_lexer": "ipython3",
      "version": "3.7.4"
    },
    "accelerator": "GPU"
  },
  "cells": [
    {
      "cell_type": "markdown",
      "metadata": {
        "id": "view-in-github",
        "colab_type": "text"
      },
      "source": [
        "<a href=\"https://colab.research.google.com/github/iamsusiep/slp2019/blob/master/Praat_Extraction.ipynb\" target=\"_parent\"><img src=\"https://colab.research.google.com/assets/colab-badge.svg\" alt=\"Open In Colab\"/></a>"
      ]
    },
    {
      "cell_type": "code",
      "metadata": {
        "id": "fSuO9jbwzeab",
        "colab_type": "code",
        "outputId": "343aa983-6584-4265-f597-505e5aa36b3f",
        "colab": {
          "base_uri": "https://localhost:8080/",
          "height": 118
        }
      },
      "source": [
        "from google.colab import drive\n",
        "drive.mount('/content/drive')"
      ],
      "execution_count": 0,
      "outputs": [
        {
          "output_type": "stream",
          "text": [
            "Go to this URL in a browser: https://accounts.google.com/o/oauth2/auth?client_id=947318989803-6bn6qk8qdgf4n4g3pfee6491hc0brc4i.apps.googleusercontent.com&redirect_uri=urn%3aietf%3awg%3aoauth%3a2.0%3aoob&response_type=code&scope=email%20https%3a%2f%2fwww.googleapis.com%2fauth%2fdocs.test%20https%3a%2f%2fwww.googleapis.com%2fauth%2fdrive%20https%3a%2f%2fwww.googleapis.com%2fauth%2fdrive.photos.readonly%20https%3a%2f%2fwww.googleapis.com%2fauth%2fpeopleapi.readonly\n",
            "\n",
            "Enter your authorization code:\n",
            "··········\n",
            "Mounted at /content/drive\n"
          ],
          "name": "stdout"
        }
      ]
    },
    {
      "cell_type": "code",
      "metadata": {
        "id": "6BwxMASCz7RD",
        "colab_type": "code",
        "outputId": "b000ab4f-7ee9-403b-8d07-20374ccce2bc",
        "colab": {
          "base_uri": "https://localhost:8080/",
          "height": 50
        }
      },
      "source": [
        "!apt -qq install -y sox"
      ],
      "execution_count": 0,
      "outputs": [
        {
          "output_type": "stream",
          "text": [
            "sox is already the newest version (14.4.2-3ubuntu0.18.04.1).\n",
            "0 upgraded, 0 newly installed, 0 to remove and 29 not upgraded.\n"
          ],
          "name": "stdout"
        }
      ]
    },
    {
      "cell_type": "code",
      "metadata": {
        "id": "8gYvgHbq2poI",
        "colab_type": "code",
        "outputId": "55a5c514-ec7a-4247-e57b-0011716c9e01",
        "colab": {
          "base_uri": "https://localhost:8080/",
          "height": 82
        }
      },
      "source": [
        "!pip install sox"
      ],
      "execution_count": 0,
      "outputs": [
        {
          "output_type": "stream",
          "text": [
            "Collecting sox\n",
            "  Downloading https://files.pythonhosted.org/packages/60/a0/5bee540554af8376e0313e462629d95bf2f2bc3c8cb60697aa01254e6cf5/sox-1.3.7-py2.py3-none-any.whl\n",
            "Installing collected packages: sox\n",
            "Successfully installed sox-1.3.7\n"
          ],
          "name": "stdout"
        }
      ]
    },
    {
      "cell_type": "code",
      "metadata": {
        "id": "JvHc28HPoJZ4",
        "colab_type": "code",
        "outputId": "1d14e9ea-f446-4df3-8ae8-48a2d97c6a24",
        "colab": {
          "base_uri": "https://localhost:8080/",
          "height": 261
        }
      },
      "source": [
        "!pip install praat-parselmouth\n",
        "!pip install config"
      ],
      "execution_count": 0,
      "outputs": [
        {
          "output_type": "stream",
          "text": [
            "Collecting praat-parselmouth\n",
            "\u001b[?25l  Downloading https://files.pythonhosted.org/packages/09/7b/9fa1172a63b6277603d27bb5613559b5a8888f58e68c1698017b87b0061d/praat_parselmouth-0.3.3-cp36-cp36m-manylinux1_x86_64.whl (9.0MB)\n",
            "\u001b[K     |████████████████████████████████| 9.0MB 4.8MB/s \n",
            "\u001b[?25hRequirement already satisfied: numpy>=1.7.0 in /usr/local/lib/python3.6/dist-packages (from praat-parselmouth) (1.17.4)\n",
            "Installing collected packages: praat-parselmouth\n",
            "Successfully installed praat-parselmouth-0.3.3\n",
            "Collecting config\n",
            "  Downloading https://files.pythonhosted.org/packages/59/6c/4ab0d80b22dca3baab49670b75ae2183b59649e9f27c11018075e509048e/config-0.4.2.tar.gz\n",
            "Building wheels for collected packages: config\n",
            "  Building wheel for config (setup.py) ... \u001b[?25l\u001b[?25hdone\n",
            "  Created wheel for config: filename=config-0.4.2-cp36-none-any.whl size=15134 sha256=b6a43441666569817df0731d75cf3a7c52ec0774a5fa369a26c4aa4c57d60d2e\n",
            "  Stored in directory: /root/.cache/pip/wheels/51/7d/db/0e38d2ec57843d00cc39f8df3686984ccec689694f7bc78a38\n",
            "Successfully built config\n",
            "Installing collected packages: config\n",
            "Successfully installed config-0.4.2\n"
          ],
          "name": "stdout"
        }
      ]
    },
    {
      "cell_type": "code",
      "metadata": {
        "colab_type": "code",
        "id": "UrDO_nuvHPGY",
        "outputId": "28529ffe-0b4c-4d49-8336-bc45c21a91b9",
        "colab": {
          "base_uri": "https://localhost:8080/",
          "height": 703
        }
      },
      "source": [
        "import os\n",
        "import pandas as pd\n",
        "import parselmouth\n",
        "from parselmouth.praat import call  # pylint: disable=no-name-in-module, import-error\n",
        "from config import Config\n",
        "import glob\n",
        "from sklearn.preprocessing import minmax_scale\n",
        "import numpy as np\n",
        "import sys\n",
        "import glob\n",
        "\n",
        "\n",
        "def extract_features(filenames):\n",
        "\n",
        "    output_df = pd.DataFrame(columns=['filename', \n",
        "                                    'Min Pitch', 'Max Pitch', 'Mean Pitch', 'Sd Pitch', \n",
        "                                    'Min Intensity', 'Max Intensity', 'Mean Intensity', 'Sd Intensity', \n",
        "                                    'Jitter', 'Shimmer', 'HNR', 'Energy'])\n",
        "    ipu_df = pd.DataFrame(columns=['filename','start_time', 'end_time'])\n",
        "    count = 0\n",
        "    for fn in filenames:\n",
        "        count += 1\n",
        "        if count % 100 == 0:\n",
        "            print('completed:', count)\n",
        "        \"\"\"\n",
        "        segment to IPU\n",
        "        \"\"\"\n",
        "        try:\n",
        "            sound = parselmouth.Sound(fn)\n",
        "            pitch = call(sound, 'To Pitch', 0.0, 75.0, 600.0)\n",
        "            intensity = call(sound, 'To Intensity', 75.0, 0.0, True)\n",
        "            point_process = call(sound, 'To PointProcess (periodic, cc)', 75.0, 600.0)\n",
        "            harmonicity = call(sound, 'To Harmonicity (cc)', 0.01, 75, 0.1, 1.0)\n",
        "\n",
        "            silence = call(sound, \"To TextGrid (silences)\",100, 0.0, -25.0, 0.05, 0.1, \"silent\", \"sounding\")\n",
        "            num_intervals = call(silence, \"Get number of intervals\",1)\n",
        "            start_times = []\n",
        "            end_times = []\n",
        "            for i in range(1, num_intervals+1):\n",
        "                label = call(silence, \"Get label of interval\", 1, i)\n",
        "                if label == \"sounding\":\n",
        "                    start_times.append(call(silence, \"Get start time of interval\",1,  i))\n",
        "                    end_times.append(call(silence, \"Get end time of interval\", 1, i))\n",
        "            \n",
        "            ipu_df.append(pd.Series([os.path.basename(fn), start_times,end_times],\n",
        "                                                    index=ipu_df.columns), ignore_index=True)\n",
        "\n",
        "            min_pitches = []\n",
        "            max_pitches = []\n",
        "            mean_pitches = []\n",
        "            sd_pitches = []\n",
        "\n",
        "            min_intensities = []\n",
        "            max_intensities = []\n",
        "            mean_intensities = []\n",
        "            sd_intensities = []\n",
        "\n",
        "            jitter_list = []\n",
        "            shimmer_list = []\n",
        "            hnr_list = []\n",
        "            energy_list = []        \n",
        "\n",
        "            for t1, t2 in zip(start_times, end_times):\n",
        "                # pitch\n",
        "                min_pitch = call(pitch, 'Get minimum', t1, t2, 'Hertz', 'Parabolic')\n",
        "                max_pitch = call(pitch, 'Get maximum', t1, t2, 'Hertz', 'Parabolic')\n",
        "                mean_pitch = call(pitch, 'Get mean',t1, t2, 'Hertz')\n",
        "                sd_pitch = call(pitch, 'Get standard deviation', t1, t2, 'Hertz')\n",
        "    \n",
        "                min_pitches.append(min_pitch)\n",
        "                max_pitches.append(max_pitch)\n",
        "                mean_pitches.append(mean_pitch)\n",
        "                sd_pitches.append(sd_pitch)\n",
        "\n",
        "                # intensity\n",
        "                min_intensity = call(intensity, 'Get minimum', t1, t2, 'Parabolic')\n",
        "                max_intensity = call(intensity, 'Get maximum', t1, t2, 'Parabolic')\n",
        "                mean_intensity = call(intensity, 'Get mean', t1, t2, 'energy')\n",
        "                sd_intensity = call(intensity, 'Get standard deviation', t1, t2)\n",
        "    \n",
        "                min_intensities.append(min_intensity)\n",
        "                max_intensities.append(max_intensity)\n",
        "                mean_intensities.append(mean_intensity)\n",
        "                sd_intensities.append(sd_intensity)\n",
        "    \n",
        "                # jitter, shimmer\n",
        "                jitter = call(point_process, 'Get jitter (local)', t1, t2, 0.0001, 0.02, 1.3)\n",
        "                shimmer = call([sound, point_process], 'Get shimmer (local)', t1, t2, 0.0001, 0.02, 1.3, 1.6)\n",
        "                jitter_list.append(jitter)\n",
        "                shimmer_list.append(shimmer)\n",
        "\n",
        "                # HNR\n",
        "                hnr = call(harmonicity, \"Get mean\", t1, t2)\n",
        "                hnr_list.append(hnr)\n",
        "    \n",
        "                # Energy\n",
        "                energy = call(sound, 'Get energy', t1, t2)\n",
        "                energy_list.append(energy)\n",
        "            min_pitches = np.array(min_pitches)\n",
        "            max_pitches = np.array(max_pitches)\n",
        "            mean_pitches = np.array(mean_pitches)\n",
        "            sd_pitches = np.array(sd_pitches)\n",
        "\n",
        "            min_intensities = np.array(min_intensities)\n",
        "            max_intensities = np.array(max_intensities)\n",
        "            mean_intensities = np.array(mean_intensities)\n",
        "            sd_intensities = np.array(sd_intensities)\n",
        "\n",
        "            jitter_list = np.array(jitter_list)\n",
        "            shimmer_list = np.array(shimmer_list)\n",
        "            hnr_list = np.array(hnr_list)\n",
        "            energy_list = np.array(energy_list) \n",
        "\n",
        "            min_pitches = min_pitches[~np.isnan(min_pitches)]\n",
        "            max_pitches = max_pitches[~np.isnan(max_pitches)]\n",
        "            mean_pitches = mean_pitches[~np.isnan(mean_pitches)]\n",
        "            sd_pitches = sd_pitches[~np.isnan(sd_pitches)]\n",
        "\n",
        "            min_intensities = min_intensities[~np.isnan(min_intensities)]\n",
        "            max_intensities = max_intensities[~np.isnan(max_intensities)]\n",
        "            mean_intensities = mean_intensities[~np.isnan(mean_intensities)]\n",
        "            sd_intensities = sd_intensities[~np.isnan(sd_intensities)]\n",
        "\n",
        "            jitter_list = jitter_list[~np.isnan(jitter_list)]\n",
        "            shimmer_list = shimmer_list[~np.isnan(shimmer_list)]\n",
        "            hnr_list = hnr_list[~np.isnan(hnr_list)]\n",
        "            energy_list = energy_list[~np.isnan(energy_list)]\n",
        "\n",
        "            min_pitch = sum(min_pitches / np.linalg.norm(min_pitches))/len(min_pitches)\n",
        "            max_pitch = sum(max_pitches / np.linalg.norm(max_pitches))/len(max_pitches)\n",
        "            mean_pitch = sum(mean_pitches / np.linalg.norm(mean_pitches))/len(mean_pitches)\n",
        "            sd_pitch = sum(sd_pitches / np.linalg.norm(sd_pitches))/len(sd_pitches)\n",
        "        \n",
        "            min_intensity = sum(min_intensities / np.linalg.norm(min_intensities))/len(min_intensities)\n",
        "            max_intensity = sum(max_intensities / np.linalg.norm(max_intensities))/len(max_intensities)\n",
        "            mean_intensity = sum(mean_intensities / np.linalg.norm(mean_intensities))/len(mean_intensities)\n",
        "            sd_intensity = sum(sd_intensities / np.linalg.norm(sd_intensities))/len(sd_intensities)\n",
        "\n",
        "            jitter = sum(jitter_list / np.linalg.norm(jitter_list))/len(jitter_list)\n",
        "            shimmer = sum(shimmer_list / np.linalg.norm(shimmer_list))/len(shimmer_list)\n",
        "            hnr = sum(hnr_list / np.linalg.norm(hnr_list))/len(hnr_list)\n",
        "            energy = sum(energy_list / np.linalg.norm(energy_list))/len(energy_list)\n",
        "    \n",
        "            output_df = output_df.append(pd.Series([os.path.basename(fn), min_pitch, max_pitch, mean_pitch, sd_pitch,\n",
        "                                                    min_intensity, max_intensity, mean_intensity, sd_intensity,\n",
        "                                                    jitter, shimmer, hnr, energy],\n",
        "                                                    index=output_df.columns), ignore_index=True)\n",
        "        except:\n",
        "            print(sys.exc_info())\n",
        "            continue\n",
        "    output_df.to_csv(\"drive/My Drive/praat5.csv\", index=None, header=True)\n",
        "    ipu_df.to_csv(\"drive/My Drive/ipu5.csv\", index=None, header=True)\n",
        "    return output_df, ipu_df\n",
        "myargs = glob.glob(\"drive/My Drive/align_speech/*.wav\")\n",
        "df, ipu_df = extract_features(myargs)"
      ],
      "execution_count": 0,
      "outputs": [
        {
          "output_type": "stream",
          "text": [
            "(<class 'parselmouth.PraatError'>, PraatError('Sound \"untitled\": shorter than window length.\\nThe physical duration of the sound (the number of samples times the sampling period) in an intensity analysis should be at least 6.4 divided by the minimum pitch (75 Hz), i.e. at least 0.08533333333333334 s, instead of 0.08 s.\\nSound \"untitled\": intensity analysis not performed.\\n',), <traceback object at 0x7f0d7b7c5ac8>)\n",
            "completed: 100\n",
            "completed: 200\n",
            "completed: 300\n",
            "completed: 400\n",
            "(<class 'ZeroDivisionError'>, ZeroDivisionError('division by zero',), <traceback object at 0x7f0d7b7d3508>)\n",
            "completed: 500\n",
            "completed: 600\n",
            "(<class 'ZeroDivisionError'>, ZeroDivisionError('division by zero',), <traceback object at 0x7f0d7b519d48>)\n",
            "completed: 700\n",
            "completed: 800\n",
            "completed: 900\n",
            "(<class 'ZeroDivisionError'>, ZeroDivisionError('division by zero',), <traceback object at 0x7f0d7b7d4e88>)\n",
            "completed: 1000\n",
            "(<class 'ZeroDivisionError'>, ZeroDivisionError('division by zero',), <traceback object at 0x7f0d7b7d22c8>)\n",
            "completed: 1100\n",
            "completed: 1200\n",
            "(<class 'parselmouth.PraatError'>, PraatError('Sound \"untitled\": shorter than window length.\\nThe physical duration of the sound (the number of samples times the sampling period) in an intensity analysis should be at least 6.4 divided by the minimum pitch (75 Hz), i.e. at least 0.08533333333333334 s, instead of 0.04 s.\\nSound \"untitled\": intensity analysis not performed.\\n',), <traceback object at 0x7f0d7b7d7848>)\n",
            "completed: 1300\n",
            "(<class 'parselmouth.PraatError'>, PraatError('Sound \"untitled\": shorter than window length.\\nThe physical duration of the sound (the number of samples times the sampling period) in an intensity analysis should be at least 6.4 divided by the minimum pitch (75 Hz), i.e. at least 0.08533333333333334 s, instead of 0.08 s.\\nSound \"untitled\": intensity analysis not performed.\\n',), <traceback object at 0x7f0d7b526548>)\n",
            "(<class 'parselmouth.PraatError'>, PraatError('Sound \"untitled\": shorter than window length.\\nThe physical duration of the sound (the number of samples times the sampling period) in an intensity analysis should be at least 6.4 divided by the minimum pitch (75 Hz), i.e. at least 0.08533333333333334 s, instead of 0.04 s.\\nSound \"untitled\": intensity analysis not performed.\\n',), <traceback object at 0x7f0d7b7d6c48>)\n",
            "completed: 1400\n",
            "completed: 1500\n",
            "completed: 1600\n",
            "(<class 'parselmouth.PraatError'>, PraatError('Sound \"untitled\": shorter than window length.\\nThe physical duration of the sound (the number of samples times the sampling period) in an intensity analysis should be at least 6.4 divided by the minimum pitch (75 Hz), i.e. at least 0.08533333333333334 s, instead of 0.08 s.\\nSound \"untitled\": intensity analysis not performed.\\n',), <traceback object at 0x7f0d7b519f88>)\n",
            "completed: 1700\n",
            "(<class 'parselmouth.PraatError'>, PraatError('Sound \"untitled\": shorter than window length.\\nThe physical duration of the sound (the number of samples times the sampling period) in an intensity analysis should be at least 6.4 divided by the minimum pitch (75 Hz), i.e. at least 0.08533333333333334 s, instead of 0.04 s.\\nSound \"untitled\": intensity analysis not performed.\\n',), <traceback object at 0x7f0d7b519f88>)\n",
            "completed: 1800\n",
            "(<class 'parselmouth.PraatError'>, PraatError('Sound \"untitled\": shorter than window length.\\nThe physical duration of the sound (the number of samples times the sampling period) in an intensity analysis should be at least 6.4 divided by the minimum pitch (75 Hz), i.e. at least 0.08533333333333334 s, instead of 0.04 s.\\nSound \"untitled\": intensity analysis not performed.\\n',), <traceback object at 0x7f0d7b519f88>)\n",
            "(<class 'ZeroDivisionError'>, ZeroDivisionError('division by zero',), <traceback object at 0x7f0d7b7d4e88>)\n",
            "completed: 1900\n",
            "completed: 2000\n",
            "completed: 2100\n",
            "completed: 2200\n",
            "(<class 'ZeroDivisionError'>, ZeroDivisionError('division by zero',), <traceback object at 0x7f0d7b7d0f88>)\n",
            "(<class 'parselmouth.PraatError'>, PraatError('Sound \"untitled\": shorter than window length.\\nThe physical duration of the sound (the number of samples times the sampling period) in an intensity analysis should be at least 6.4 divided by the minimum pitch (75 Hz), i.e. at least 0.08533333333333334 s, instead of 0.04 s.\\nSound \"untitled\": intensity analysis not performed.\\n',), <traceback object at 0x7f0d7b519d48>)\n",
            "(<class 'ZeroDivisionError'>, ZeroDivisionError('division by zero',), <traceback object at 0x7f0d7b7d4e88>)\n",
            "completed: 2300\n",
            "completed: 2400\n",
            "(<class 'ZeroDivisionError'>, ZeroDivisionError('division by zero',), <traceback object at 0x7f0d7b7d22c8>)\n",
            "completed: 2500\n"
          ],
          "name": "stdout"
        }
      ]
    }
  ]
}