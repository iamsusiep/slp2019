{
  "nbformat": 4,
  "nbformat_minor": 0,
  "metadata": {
    "colab": {
      "name": "preprocess_utterances.ipynb",
      "provenance": [],
      "collapsed_sections": [],
      "include_colab_link": true
    },
    "kernelspec": {
      "name": "python3",
      "display_name": "Python 3"
    }
  },
  "cells": [
    {
      "cell_type": "markdown",
      "metadata": {
        "id": "view-in-github",
        "colab_type": "text"
      },
      "source": [
        "<a href=\"https://colab.research.google.com/github/iamsusiep/slp2019/blob/master/preprocess_utterances.ipynb\" target=\"_parent\"><img src=\"https://colab.research.google.com/assets/colab-badge.svg\" alt=\"Open In Colab\"/></a>"
      ]
    },
    {
      "cell_type": "markdown",
      "metadata": {
        "id": "PGpLrZscgn6K",
        "colab_type": "text"
      },
      "source": [
        "This notebook preprocesses WAV files that have already had music removed (using the remove_music notebook) and turns them into mel-spectrograms, to then have prosody embeddings retrieved using a pre-trained model. \n",
        "\n",
        "The WAV files are split into different utterances using timestamps from transcriptions + forced alignment. Each utterance has a mel-spectrogram saved, so each WAV file has multiple mel-spectrograms associated."
      ]
    },
    {
      "cell_type": "code",
      "metadata": {
        "id": "7VouQBRh8sJa",
        "colab_type": "code",
        "outputId": "1a4d7635-9c33-4d0b-af20-eef5dee182c0",
        "colab": {
          "base_uri": "https://localhost:8080/",
          "height": 210
        }
      },
      "source": [
        "from google.colab import drive\n",
        "\n",
        "drive.mount('/content/gdrive')\n",
        "!git clone https://github.com/syang1993/gst-tacotron.git"
      ],
      "execution_count": 0,
      "outputs": [
        {
          "output_type": "stream",
          "text": [
            "Go to this URL in a browser: https://accounts.google.com/o/oauth2/auth?client_id=947318989803-6bn6qk8qdgf4n4g3pfee6491hc0brc4i.apps.googleusercontent.com&redirect_uri=urn%3aietf%3awg%3aoauth%3a2.0%3aoob&response_type=code&scope=email%20https%3a%2f%2fwww.googleapis.com%2fauth%2fdocs.test%20https%3a%2f%2fwww.googleapis.com%2fauth%2fdrive%20https%3a%2f%2fwww.googleapis.com%2fauth%2fdrive.photos.readonly%20https%3a%2f%2fwww.googleapis.com%2fauth%2fpeopleapi.readonly\n",
            "\n",
            "Enter your authorization code:\n",
            "··········\n",
            "Mounted at /content/gdrive\n",
            "Cloning into 'gst-tacotron'...\n",
            "remote: Enumerating objects: 375, done.\u001b[K\n",
            "remote: Total 375 (delta 0), reused 0 (delta 0), pack-reused 375\u001b[K\n",
            "Receiving objects: 100% (375/375), 421.74 KiB | 587.00 KiB/s, done.\n",
            "Resolving deltas: 100% (244/244), done.\n"
          ],
          "name": "stdout"
        }
      ]
    },
    {
      "cell_type": "code",
      "metadata": {
        "id": "cCbvWQBHQOQF",
        "colab_type": "code",
        "outputId": "869b0945-3f6f-4a9d-f88e-be7bb4cf4b0b",
        "colab": {
          "base_uri": "https://localhost:8080/",
          "height": 35
        }
      },
      "source": [
        "cd gst-tacotron"
      ],
      "execution_count": 0,
      "outputs": [
        {
          "output_type": "stream",
          "text": [
            "/content/gst-tacotron\n"
          ],
          "name": "stdout"
        }
      ]
    },
    {
      "cell_type": "code",
      "metadata": {
        "id": "U4bSqMibQSCx",
        "colab_type": "code",
        "colab": {}
      },
      "source": [
        "%%capture\n",
        "!pip install -r requirements.txt"
      ],
      "execution_count": 0,
      "outputs": []
    },
    {
      "cell_type": "code",
      "metadata": {
        "id": "glQwg_BMTWuR",
        "colab_type": "code",
        "colab": {}
      },
      "source": [
        "%%capture\n",
        "!pip install --upgrade librosa"
      ],
      "execution_count": 0,
      "outputs": []
    },
    {
      "cell_type": "code",
      "metadata": {
        "id": "Uaj1GL9l8LUN",
        "colab_type": "code",
        "outputId": "44415fce-1aef-486c-f095-7740bfe668e2",
        "colab": {
          "base_uri": "https://localhost:8080/",
          "height": 202
        }
      },
      "source": [
        "import pandas as pd\n",
        "import glob \n",
        "import os\n",
        "from util.audio import *\n",
        "\n",
        "def process_utterance(out_dir, wav_path, link, start_time, end_time, name, text):\n",
        "  '''Preprocesses a single utterance.\n",
        "  This writes the mel and linear scale spectrograms to disk.\n",
        "  Args:\n",
        "    out_dir: The directory to write the spectrograms into\n",
        "    wav_path: Path to the audio file containing the speech input\n",
        "  '''\n",
        "  if start_time != end_time and start_time != 29.96 and abs(start_time - end_time) >= 2 and text.strip():\n",
        "    # Load the audio to a numpy array:\n",
        "    wav = load_wav(wav_path)\n",
        "\n",
        "    # limit to just be between end and start time based on transcription\n",
        "    start_index = librosa.time_to_samples(start_time, sr = 16000)\n",
        "    end_index = librosa.time_to_samples(end_time, sr = 16000)\n",
        "    wav = wav[int(start_index):int(end_index)]\n",
        "\n",
        "    # Compute the linear-scale spectrogram from the wav:\n",
        "    spect = spectrogram(wav).astype(np.float32)\n",
        "    n_frames = spect.shape[1]\n",
        "\n",
        "    # Compute a mel-scale spectrogram from the wav:\n",
        "    mel_spectrogram = melspectrogram(wav).astype(np.float32)\n",
        "\n",
        "    # Write the spectrograms to disk:\n",
        "    mel_filename = link + '_' + name + '-mel.npy'\n",
        "    np.save(os.path.join(out_dir, mel_filename), mel_spectrogram.T, allow_pickle=False)"
      ],
      "execution_count": 0,
      "outputs": [
        {
          "output_type": "display_data",
          "data": {
            "text/html": [
              "<p style=\"color: red;\">\n",
              "The default version of TensorFlow in Colab will soon switch to TensorFlow 2.x.<br>\n",
              "We recommend you <a href=\"https://www.tensorflow.org/guide/migrate\" target=\"_blank\">upgrade</a> now \n",
              "or ensure your notebook will continue to use TensorFlow 1.x via the <code>%tensorflow_version 1.x</code> magic:\n",
              "<a href=\"https://colab.research.google.com/notebooks/tensorflow_version.ipynb\" target=\"_blank\">more info</a>.</p>\n"
            ],
            "text/plain": [
              "<IPython.core.display.HTML object>"
            ]
          },
          "metadata": {
            "tags": []
          }
        },
        {
          "output_type": "stream",
          "text": [
            "WARNING:tensorflow:\n",
            "The TensorFlow contrib module will not be included in TensorFlow 2.0.\n",
            "For more information, please see:\n",
            "  * https://github.com/tensorflow/community/blob/master/rfcs/20180907-contrib-sunset.md\n",
            "  * https://github.com/tensorflow/addons\n",
            "  * https://github.com/tensorflow/io (for I/O related ops)\n",
            "If you depend on functionality not listed there, please file an issue.\n",
            "\n"
          ],
          "name": "stdout"
        }
      ]
    },
    {
      "cell_type": "code",
      "metadata": {
        "id": "mWE0s5C29-BY",
        "colab_type": "code",
        "colab": {}
      },
      "source": [
        "# runs through all WAV files (each of which is 30 seconds long, so there are multiple per trailer)\n",
        "# generates mel spectrograms for each WAV file, excluding some erroneous transcripts\n",
        "# note that this cell may fail if your version of librosa is old\n",
        "# the error is a weird shape-related one, but just pip install --upgrade librosa and you'll be fine\n",
        "\n",
        "wav_files = glob.glob('/content/gdrive/My Drive/no_music/*.wav')\n",
        "all_alignments = os.listdir('/content/gdrive/My Drive/align/')\n",
        "existing_files = os.listdir('/content/gdrive/My Drive/preprocessed_prosody_model_inputs/')\n",
        "\n",
        "# loop through all wav files\n",
        "for f in wav_files:\n",
        "  yt_link = f.split('no_music/')[1].split('.wav')[0]\n",
        "  alignments = [x for x in all_alignments if yt_link in x]\n",
        "  if len(alignments) > 0:\n",
        "    # make sure we haven't already done this one\n",
        "    if not any(yt_link in x for x in existing_files):\n",
        "      for alignment in alignments:\n",
        "        # amend yt_link to correspond to segment of trailer\n",
        "        yt_link_segment = yt_link + alignment.split(yt_link)[1].split('.csv')[0]\n",
        "        # read in alignment and process utterance\n",
        "        df = pd.read_csv('/content/gdrive/My Drive/align/' + alignment, names = ['name', 'start', 'end', 'text'])\n",
        "        df.apply(lambda row: process_utterance('/content/gdrive/My Drive/preprocessed_prosody_model_inputs/',\n",
        "                                               f,\n",
        "                                               yt_link_segment,\n",
        "                                               row['start'],\n",
        "                                               row['end'],\n",
        "                                               row['name'],\n",
        "                                               row['text']\n",
        "                                               ), axis = 1)\n",
        "        "
      ],
      "execution_count": 0,
      "outputs": []
    }
  ]
}